{
 "cells": [
  {
   "cell_type": "code",
   "execution_count": 1,
   "id": "1755abaf",
   "metadata": {},
   "outputs": [],
   "source": [
    "import pandas as pd\n",
    "import numpy as np"
   ]
  },
  {
   "cell_type": "code",
   "execution_count": 2,
   "id": "a1a6b6f3",
   "metadata": {},
   "outputs": [],
   "source": [
    "df = pd.read_csv('exams.csv')"
   ]
  },
  {
   "cell_type": "code",
   "execution_count": 3,
   "id": "d5c28e36",
   "metadata": {},
   "outputs": [
    {
     "data": {
      "text/html": [
       "<div>\n",
       "<style scoped>\n",
       "    .dataframe tbody tr th:only-of-type {\n",
       "        vertical-align: middle;\n",
       "    }\n",
       "\n",
       "    .dataframe tbody tr th {\n",
       "        vertical-align: top;\n",
       "    }\n",
       "\n",
       "    .dataframe thead th {\n",
       "        text-align: right;\n",
       "    }\n",
       "</style>\n",
       "<table border=\"1\" class=\"dataframe\">\n",
       "  <thead>\n",
       "    <tr style=\"text-align: right;\">\n",
       "      <th></th>\n",
       "      <th>math score</th>\n",
       "      <th>reading score</th>\n",
       "      <th>writing score</th>\n",
       "    </tr>\n",
       "  </thead>\n",
       "  <tbody>\n",
       "    <tr>\n",
       "      <th>count</th>\n",
       "      <td>1000.000000</td>\n",
       "      <td>1000.000000</td>\n",
       "      <td>1000.000000</td>\n",
       "    </tr>\n",
       "    <tr>\n",
       "      <th>mean</th>\n",
       "      <td>67.810000</td>\n",
       "      <td>70.382000</td>\n",
       "      <td>69.140000</td>\n",
       "    </tr>\n",
       "    <tr>\n",
       "      <th>std</th>\n",
       "      <td>15.250196</td>\n",
       "      <td>14.107413</td>\n",
       "      <td>15.025917</td>\n",
       "    </tr>\n",
       "    <tr>\n",
       "      <th>min</th>\n",
       "      <td>15.000000</td>\n",
       "      <td>25.000000</td>\n",
       "      <td>15.000000</td>\n",
       "    </tr>\n",
       "    <tr>\n",
       "      <th>25%</th>\n",
       "      <td>58.000000</td>\n",
       "      <td>61.000000</td>\n",
       "      <td>59.000000</td>\n",
       "    </tr>\n",
       "    <tr>\n",
       "      <th>50%</th>\n",
       "      <td>68.000000</td>\n",
       "      <td>70.500000</td>\n",
       "      <td>70.000000</td>\n",
       "    </tr>\n",
       "    <tr>\n",
       "      <th>75%</th>\n",
       "      <td>79.250000</td>\n",
       "      <td>80.000000</td>\n",
       "      <td>80.000000</td>\n",
       "    </tr>\n",
       "    <tr>\n",
       "      <th>max</th>\n",
       "      <td>100.000000</td>\n",
       "      <td>100.000000</td>\n",
       "      <td>100.000000</td>\n",
       "    </tr>\n",
       "  </tbody>\n",
       "</table>\n",
       "</div>"
      ],
      "text/plain": [
       "        math score  reading score  writing score\n",
       "count  1000.000000    1000.000000    1000.000000\n",
       "mean     67.810000      70.382000      69.140000\n",
       "std      15.250196      14.107413      15.025917\n",
       "min      15.000000      25.000000      15.000000\n",
       "25%      58.000000      61.000000      59.000000\n",
       "50%      68.000000      70.500000      70.000000\n",
       "75%      79.250000      80.000000      80.000000\n",
       "max     100.000000     100.000000     100.000000"
      ]
     },
     "execution_count": 3,
     "metadata": {},
     "output_type": "execute_result"
    }
   ],
   "source": [
    "df.describe()"
   ]
  },
  {
   "cell_type": "code",
   "execution_count": 4,
   "id": "5f196757",
   "metadata": {},
   "outputs": [
    {
     "data": {
      "text/plain": [
       "(array([], dtype=int64), array([], dtype=int64))"
      ]
     },
     "execution_count": 4,
     "metadata": {},
     "output_type": "execute_result"
    }
   ],
   "source": [
    "np.where(pd.isnull(df))"
   ]
  },
  {
   "cell_type": "code",
   "execution_count": 5,
   "id": "928f15e5",
   "metadata": {},
   "outputs": [],
   "source": [
    "genders = df[['gender', 'writing score', 'reading score', 'math score']]"
   ]
  },
  {
   "cell_type": "code",
   "execution_count": 6,
   "id": "9802477c",
   "metadata": {},
   "outputs": [
    {
     "name": "stderr",
     "output_type": "stream",
     "text": [
      "/var/folders/r5/4pnz2szn5fvcz9xzb4xvqfm00000gn/T/ipykernel_4676/3656120598.py:2: FutureWarning: In a future version of pandas all arguments of DataFrame.drop except for the argument 'labels' will be keyword-only\n",
      "  female = genders[genders['gender'] == 'female'].drop('gender', 1)\n",
      "/var/folders/r5/4pnz2szn5fvcz9xzb4xvqfm00000gn/T/ipykernel_4676/3656120598.py:3: FutureWarning: In a future version of pandas all arguments of DataFrame.drop except for the argument 'labels' will be keyword-only\n",
      "  male = genders[genders['gender'] == 'male'].drop('gender', 1)\n"
     ]
    }
   ],
   "source": [
    "#split the data frame between the two genders to see if there is a difference between test scores\n",
    "female = genders[genders['gender'] == 'female'].drop('gender', 1)\n",
    "male = genders[genders['gender'] == 'male'].drop('gender', 1)"
   ]
  },
  {
   "cell_type": "code",
   "execution_count": 7,
   "id": "5bc1e055",
   "metadata": {},
   "outputs": [
    {
     "name": "stdout",
     "output_type": "stream",
     "text": [
      "Male:\n",
      "writing score    64.976378\n",
      "reading score    67.387795\n",
      "math score       70.750000\n",
      "dtype: float64\n",
      "Female:\n",
      "writing score    73.439024\n",
      "reading score    73.473577\n",
      "math score       64.774390\n",
      "dtype: float64\n"
     ]
    }
   ],
   "source": [
    "#Get the means for both groups\n",
    "print('Male:')\n",
    "print(male.mean())\n",
    "print('Female:')\n",
    "print(female.mean())"
   ]
  },
  {
   "cell_type": "code",
   "execution_count": 8,
   "id": "28f605ca",
   "metadata": {},
   "outputs": [
    {
     "data": {
      "image/png": "[encoded data removed]",
      "text/plain": [
       "<Figure size 432x288 with 1 Axes>"
      ]
     },
     "metadata": {
      "needs_background": "light"
     },
     "output_type": "display_data"
    },
    {
     "data": {
      "image/png": "[encoded data removed]",
      "text/plain": [
       "<Figure size 432x288 with 1 Axes>"
      ]
     },
     "metadata": {
      "needs_background": "light"
     },
     "output_type": "display_data"
    },
    {
     "data": {
      "image/png": "[encoded data removed]",
      "text/plain": [
       "<Figure size 432x288 with 1 Axes>"
      ]
     },
     "metadata": {
      "needs_background": "light"
     },
     "output_type": "display_data"
    },
    {
     "data": {
      "image/png": "[encoded data removed]",
      "text/plain": [
       "<Figure size 432x288 with 1 Axes>"
      ]
     },
     "metadata": {
      "needs_background": "light"
     },
     "output_type": "display_data"
    },
    {
     "data": {
      "image/png": "[encoded data removed]",
      "text/plain": [
       "<Figure size 432x288 with 1 Axes>"
      ]
     },
     "metadata": {
      "needs_background": "light"
     },
     "output_type": "display_data"
    },
    {
     "data": {
      "image/png": "[encoded data removed]",
      "text/plain": [
       "<Figure size 432x288 with 1 Axes>"
      ]
     },
     "metadata": {
      "needs_background": "light"
     },
     "output_type": "display_data"
    }
   ],
   "source": [
    "import matplotlib.pyplot as plt\n",
    "for i in male.columns:\n",
    "    plt.figure()\n",
    "    plt.hist(male[i],bins=range(0,110,10), label='Male')\n",
    "    plt.xlabel('Scores')\n",
    "    plt.ylabel('# of Students')\n",
    "    plt.title('Male {} Scores'.format(i))\n",
    "    plt.figure()\n",
    "    plt.hist(female[i], bins=range(0, 110, 10), label='Female')\n",
    "    plt.xlabel('Scores')\n",
    "    plt.ylabel('# of Students')\n",
    "    plt.title('Female {} Scores'.format(i))\n"
   ]
  },
  {
   "cell_type": "code",
   "execution_count": 9,
   "id": "8b12b663",
   "metadata": {},
   "outputs": [
    {
     "name": "stdout",
     "output_type": "stream",
     "text": [
      "Reject null the means are not the same for: writing score\n",
      "Reject null the means are not the same for: reading score\n",
      "Reject null the means are not the same for: math score\n"
     ]
    }
   ],
   "source": [
    "#Determine if the difference in means is statistically significant since the \n",
    "#variance and number of samples in each is different we will use a Welch T test\n",
    "from scipy.stats import ttest_ind\n",
    "for i in male.columns:\n",
    "    t_stat,p_value = ttest_ind(male[i], female[i],equal_var=False)\n",
    "    if p_value < 0.05:\n",
    "        print(f\"Reject null the means are not the same for: {i}\")\n",
    "    else:\n",
    "        print(f\"Don't reject Null means appear to be similar: {i}\")"
   ]
  },
  {
   "cell_type": "code",
   "execution_count": 10,
   "id": "d9c284d6",
   "metadata": {},
   "outputs": [],
   "source": [
    "def create_graphs(df1,df2,name1,name2):\n",
    "    for i in df1.columns:\n",
    "        plt.figure()\n",
    "        plt.hist(df1[i],bins=range(0,110,10), label='{}'.format(name1))\n",
    "        plt.xlabel('Scores')\n",
    "        plt.ylabel('# of Students')\n",
    "        plt.title('{} {} Scores'.format(name1,i))\n",
    "        plt.figure()\n",
    "        plt.hist(df2[i], bins=range(0, 110, 10), label='{}'.format(name2))\n",
    "        plt.xlabel('Scores')\n",
    "        plt.ylabel('# of Students')\n",
    "        plt.title('{} {} Scores'.format(name2,i))"
   ]
  },
  {
   "cell_type": "code",
   "execution_count": 11,
   "id": "1a69c2cf",
   "metadata": {},
   "outputs": [],
   "source": [
    "cols = df.columns\n",
    "test_score_names = set([i for i in cols if i[-5:] == 'score'])\n",
    "groups = set([i for i in cols if i[-5:] != 'score'])"
   ]
  },
  {
   "cell_type": "code",
   "execution_count": 12,
   "id": "74a5efee",
   "metadata": {},
   "outputs": [
    {
     "name": "stdout",
     "output_type": "stream",
     "text": [
      "                math score  reading score  writing score\n",
      "race/ethnicity                                          \n",
      "group A          65.696203      69.202532      67.848101\n",
      "group B          64.070707      68.530303      66.717172\n",
      "group C          65.510836      68.609907      66.804954\n",
      "group D          68.879377      70.929961      71.058366\n",
      "group E          77.426573      76.615385      75.034965\n"
     ]
    }
   ],
   "source": [
    "races = df.drop([i for i in groups if i in groups and i != 'race/ethnicity'], axis=1)\n",
    "means = races.groupby('race/ethnicity').mean()\n",
    "print(means)"
   ]
  },
  {
   "cell_type": "code",
   "execution_count": 13,
   "id": "c5ce2158",
   "metadata": {},
   "outputs": [
    {
     "data": {
      "image/png": "[encoded data removed]",
      "text/plain": [
       "<Figure size 432x288 with 1 Axes>"
      ]
     },
     "metadata": {
      "needs_background": "light"
     },
     "output_type": "display_data"
    },
    {
     "data": {
      "image/png": "[encoded data removed]",
      "text/plain": [
       "<Figure size 432x288 with 1 Axes>"
      ]
     },
     "metadata": {
      "needs_background": "light"
     },
     "output_type": "display_data"
    },
    {
     "data": {
      "image/png": "[encoded data removed]",
      "text/plain": [
       "<Figure size 432x288 with 1 Axes>"
      ]
     },
     "metadata": {
      "needs_background": "light"
     },
     "output_type": "display_data"
    },
    {
     "data": {
      "image/png": "[encoded data removed]",
      "text/plain": [
       "<Figure size 432x288 with 1 Axes>"
      ]
     },
     "metadata": {
      "needs_background": "light"
     },
     "output_type": "display_data"
    },
    {
     "data": {
      "image/png": "[encoded data removed]",
      "text/plain": [
       "<Figure size 432x288 with 1 Axes>"
      ]
     },
     "metadata": {
      "needs_background": "light"
     },
     "output_type": "display_data"
    },
    {
     "data": {
      "image/png": "[encoded data removed]",
      "text/plain": [
       "<Figure size 432x288 with 1 Axes>"
      ]
     },
     "metadata": {
      "needs_background": "light"
     },
     "output_type": "display_data"
    },
    {
     "data": {
      "image/png": "[encoded data removed]",
      "text/plain": [
       "<Figure size 432x288 with 1 Axes>"
      ]
     },
     "metadata": {
      "needs_background": "light"
     },
     "output_type": "display_data"
    },
    {
     "data": {
      "image/png": "[encoded data removed]",
      "text/plain": [
       "<Figure size 432x288 with 1 Axes>"
      ]
     },
     "metadata": {
      "needs_background": "light"
     },
     "output_type": "display_data"
    },
    {
     "data": {
      "image/png": "[encoded data removed]",
      "text/plain": [
       "<Figure size 432x288 with 1 Axes>"
      ]
     },
     "metadata": {
      "needs_background": "light"
     },
     "output_type": "display_data"
    },
    {
     "data": {
      "image/png": "[encoded data removed]",
      "text/plain": [
       "<Figure size 432x288 with 1 Axes>"
      ]
     },
     "metadata": {
      "needs_background": "light"
     },
     "output_type": "display_data"
    },
    {
     "data": {
      "image/png": "[encoded data removed]",
      "text/plain": [
       "<Figure size 432x288 with 1 Axes>"
      ]
     },
     "metadata": {
      "needs_background": "light"
     },
     "output_type": "display_data"
    },
    {
     "data": {
      "image/png": "[encoded data removed]",
      "text/plain": [
       "<Figure size 432x288 with 1 Axes>"
      ]
     },
     "metadata": {
      "needs_background": "light"
     },
     "output_type": "display_data"
    },
    {
     "data": {
      "image/png": "[encoded data removed]",
      "text/plain": [
       "<Figure size 432x288 with 1 Axes>"
      ]
     },
     "metadata": {
      "needs_background": "light"
     },
     "output_type": "display_data"
    },
    {
     "data": {
      "image/png": "[encoded data removed]",
      "text/plain": [
       "<Figure size 432x288 with 1 Axes>"
      ]
     },
     "metadata": {
      "needs_background": "light"
     },
     "output_type": "display_data"
    },
    {
     "data": {
      "image/png": "[encoded data removed]",
      "text/plain": [
       "<Figure size 432x288 with 1 Axes>"
      ]
     },
     "metadata": {
      "needs_background": "light"
     },
     "output_type": "display_data"
    }
   ],
   "source": [
    "for i in list(races['race/ethnicity'].value_counts().index): \n",
    "    temp = races[races['race/ethnicity'] == i].drop('race/ethnicity',axis=1)\n",
    "    for x in set(temp.columns):\n",
    "        plt.figure()\n",
    "        plt.hist(temp[x],bins=range(0,110,10))\n",
    "        plt.xlabel('Scores')\n",
    "        plt.ylabel('# of Students')\n",
    "        plt.title('{} {} Scores'.format(i,x))"
   ]
  },
  {
   "cell_type": "code",
   "execution_count": 14,
   "id": "cd1e6f84",
   "metadata": {},
   "outputs": [],
   "source": [
    "#Want to use anove to see if the difference between means is significant\n",
    "#because the variance and size is not the same and data not exactly normal we will use \n",
    "#Krustal Anova\n",
    "\n",
    "from scipy.stats import kruskal\n",
    "import numpy as np\n",
    "eth_dic = {}\n",
    "eth_data = []\n",
    "for i in list(races['race/ethnicity'].value_counts().index):\n",
    "    eth_data.append(races[races['race/ethnicity'] == i].drop('race/ethnicity',axis=1))\n",
    "\n",
    "\n",
    "for i in test_score_names:\n",
    "    eth_dic[i] = []\n",
    "    for x in eth_data:\n",
    "        eth_dic[i].append(x[i].values)\n",
    "        \n",
    "     \n",
    "    \n",
    "#test_stat, p_value = krustal()\n"
   ]
  },
  {
   "cell_type": "code",
   "execution_count": 15,
   "id": "43f47694",
   "metadata": {},
   "outputs": [
    {
     "name": "stdout",
     "output_type": "stream",
     "text": [
      "reject Null at least one mean in writing score is different\n",
      "reject Null at least one mean in reading score is different\n",
      "reject Null at least one mean in math score is different\n"
     ]
    }
   ],
   "source": [
    "for i in eth_dic.keys():\n",
    "    stat,p_value = kruskal(*eth_dic[i])\n",
    "    if p_value < .05:\n",
    "        print(f'reject Null at least one mean in {i} is different')\n",
    "    else:\n",
    "        print(f\"Fail to reject Null for {i}\")\n",
    "    "
   ]
  },
  {
   "cell_type": "code",
   "execution_count": 16,
   "id": "8310bb52",
   "metadata": {},
   "outputs": [
    {
     "data": {
      "text/plain": [
       "{\"associate's degree\",\n",
       " \"bachelor's degree\",\n",
       " 'high school',\n",
       " \"master's degree\",\n",
       " 'some college',\n",
       " 'some high school'}"
      ]
     },
     "execution_count": 16,
     "metadata": {},
     "output_type": "execute_result"
    }
   ],
   "source": [
    "set(df['parental level of education'].value_counts().index)"
   ]
  },
  {
   "cell_type": "code",
   "execution_count": 17,
   "id": "92ce7703",
   "metadata": {},
   "outputs": [
    {
     "data": {
      "text/html": [
       "<div>\n",
       "<style scoped>\n",
       "    .dataframe tbody tr th:only-of-type {\n",
       "        vertical-align: middle;\n",
       "    }\n",
       "\n",
       "    .dataframe tbody tr th {\n",
       "        vertical-align: top;\n",
       "    }\n",
       "\n",
       "    .dataframe thead th {\n",
       "        text-align: right;\n",
       "    }\n",
       "</style>\n",
       "<table border=\"1\" class=\"dataframe\">\n",
       "  <thead>\n",
       "    <tr style=\"text-align: right;\">\n",
       "      <th></th>\n",
       "      <th>parental level of education</th>\n",
       "      <th>math score</th>\n",
       "      <th>reading score</th>\n",
       "      <th>writing score</th>\n",
       "    </tr>\n",
       "  </thead>\n",
       "  <tbody>\n",
       "    <tr>\n",
       "      <th>0</th>\n",
       "      <td>some college</td>\n",
       "      <td>59</td>\n",
       "      <td>70</td>\n",
       "      <td>78</td>\n",
       "    </tr>\n",
       "    <tr>\n",
       "      <th>1</th>\n",
       "      <td>associate's degree</td>\n",
       "      <td>96</td>\n",
       "      <td>93</td>\n",
       "      <td>87</td>\n",
       "    </tr>\n",
       "    <tr>\n",
       "      <th>2</th>\n",
       "      <td>some college</td>\n",
       "      <td>57</td>\n",
       "      <td>76</td>\n",
       "      <td>77</td>\n",
       "    </tr>\n",
       "    <tr>\n",
       "      <th>3</th>\n",
       "      <td>some college</td>\n",
       "      <td>70</td>\n",
       "      <td>70</td>\n",
       "      <td>63</td>\n",
       "    </tr>\n",
       "    <tr>\n",
       "      <th>4</th>\n",
       "      <td>associate's degree</td>\n",
       "      <td>83</td>\n",
       "      <td>85</td>\n",
       "      <td>86</td>\n",
       "    </tr>\n",
       "    <tr>\n",
       "      <th>...</th>\n",
       "      <td>...</td>\n",
       "      <td>...</td>\n",
       "      <td>...</td>\n",
       "      <td>...</td>\n",
       "    </tr>\n",
       "    <tr>\n",
       "      <th>995</th>\n",
       "      <td>some college</td>\n",
       "      <td>77</td>\n",
       "      <td>77</td>\n",
       "      <td>71</td>\n",
       "    </tr>\n",
       "    <tr>\n",
       "      <th>996</th>\n",
       "      <td>some college</td>\n",
       "      <td>80</td>\n",
       "      <td>66</td>\n",
       "      <td>66</td>\n",
       "    </tr>\n",
       "    <tr>\n",
       "      <th>997</th>\n",
       "      <td>high school</td>\n",
       "      <td>67</td>\n",
       "      <td>86</td>\n",
       "      <td>86</td>\n",
       "    </tr>\n",
       "    <tr>\n",
       "      <th>998</th>\n",
       "      <td>high school</td>\n",
       "      <td>80</td>\n",
       "      <td>72</td>\n",
       "      <td>62</td>\n",
       "    </tr>\n",
       "    <tr>\n",
       "      <th>999</th>\n",
       "      <td>high school</td>\n",
       "      <td>58</td>\n",
       "      <td>47</td>\n",
       "      <td>45</td>\n",
       "    </tr>\n",
       "  </tbody>\n",
       "</table>\n",
       "<p>1000 rows × 4 columns</p>\n",
       "</div>"
      ],
      "text/plain": [
       "    parental level of education  math score  reading score  writing score\n",
       "0                  some college          59             70             78\n",
       "1            associate's degree          96             93             87\n",
       "2                  some college          57             76             77\n",
       "3                  some college          70             70             63\n",
       "4            associate's degree          83             85             86\n",
       "..                          ...         ...            ...            ...\n",
       "995                some college          77             77             71\n",
       "996                some college          80             66             66\n",
       "997                 high school          67             86             86\n",
       "998                 high school          80             72             62\n",
       "999                 high school          58             47             45\n",
       "\n",
       "[1000 rows x 4 columns]"
      ]
     },
     "execution_count": 17,
     "metadata": {},
     "output_type": "execute_result"
    }
   ],
   "source": [
    "parent_ed = df.drop([i for i in groups if i != 'parental level of education'], axis=1)\n",
    "parent_ed"
   ]
  },
  {
   "cell_type": "code",
   "execution_count": 18,
   "id": "b2bfb831",
   "metadata": {},
   "outputs": [],
   "source": [
    "means = parent_ed.groupby('parental level of education').mean()"
   ]
  },
  {
   "cell_type": "code",
   "execution_count": 19,
   "id": "42b1030d",
   "metadata": {},
   "outputs": [
    {
     "data": {
      "text/html": [
       "<div>\n",
       "<style scoped>\n",
       "    .dataframe tbody tr th:only-of-type {\n",
       "        vertical-align: middle;\n",
       "    }\n",
       "\n",
       "    .dataframe tbody tr th {\n",
       "        vertical-align: top;\n",
       "    }\n",
       "\n",
       "    .dataframe thead th {\n",
       "        text-align: right;\n",
       "    }\n",
       "</style>\n",
       "<table border=\"1\" class=\"dataframe\">\n",
       "  <thead>\n",
       "    <tr style=\"text-align: right;\">\n",
       "      <th></th>\n",
       "      <th>math score</th>\n",
       "      <th>reading score</th>\n",
       "      <th>writing score</th>\n",
       "    </tr>\n",
       "    <tr>\n",
       "      <th>parental level of education</th>\n",
       "      <th></th>\n",
       "      <th></th>\n",
       "      <th></th>\n",
       "    </tr>\n",
       "  </thead>\n",
       "  <tbody>\n",
       "    <tr>\n",
       "      <th>associate's degree</th>\n",
       "      <td>70.348039</td>\n",
       "      <td>72.647059</td>\n",
       "      <td>72.039216</td>\n",
       "    </tr>\n",
       "    <tr>\n",
       "      <th>bachelor's degree</th>\n",
       "      <td>69.866667</td>\n",
       "      <td>71.819048</td>\n",
       "      <td>72.266667</td>\n",
       "    </tr>\n",
       "    <tr>\n",
       "      <th>high school</th>\n",
       "      <td>65.381395</td>\n",
       "      <td>69.223256</td>\n",
       "      <td>66.772093</td>\n",
       "    </tr>\n",
       "    <tr>\n",
       "      <th>master's degree</th>\n",
       "      <td>71.026667</td>\n",
       "      <td>71.973333</td>\n",
       "      <td>71.746667</td>\n",
       "    </tr>\n",
       "    <tr>\n",
       "      <th>some college</th>\n",
       "      <td>68.642857</td>\n",
       "      <td>70.941964</td>\n",
       "      <td>69.473214</td>\n",
       "    </tr>\n",
       "    <tr>\n",
       "      <th>some high school</th>\n",
       "      <td>64.197740</td>\n",
       "      <td>66.943503</td>\n",
       "      <td>65.293785</td>\n",
       "    </tr>\n",
       "  </tbody>\n",
       "</table>\n",
       "</div>"
      ],
      "text/plain": [
       "                             math score  reading score  writing score\n",
       "parental level of education                                          \n",
       "associate's degree            70.348039      72.647059      72.039216\n",
       "bachelor's degree             69.866667      71.819048      72.266667\n",
       "high school                   65.381395      69.223256      66.772093\n",
       "master's degree               71.026667      71.973333      71.746667\n",
       "some college                  68.642857      70.941964      69.473214\n",
       "some high school              64.197740      66.943503      65.293785"
      ]
     },
     "execution_count": 19,
     "metadata": {},
     "output_type": "execute_result"
    }
   ],
   "source": [
    "means"
   ]
  },
  {
   "cell_type": "code",
   "execution_count": 20,
   "id": "522013a9",
   "metadata": {},
   "outputs": [
    {
     "data": {
      "image/png": "[encoded data removed]",
      "text/plain": [
       "<Figure size 432x288 with 1 Axes>"
      ]
     },
     "metadata": {
      "needs_background": "light"
     },
     "output_type": "display_data"
    },
    {
     "data": {
      "image/png": "[encoded data removed]",
      "text/plain": [
       "<Figure size 432x288 with 1 Axes>"
      ]
     },
     "metadata": {
      "needs_background": "light"
     },
     "output_type": "display_data"
    },
    {
     "data": {
      "image/png": "[encoded data removed]",
      "text/plain": [
       "<Figure size 432x288 with 1 Axes>"
      ]
     },
     "metadata": {
      "needs_background": "light"
     },
     "output_type": "display_data"
    },
    {
     "data": {
      "image/png": "[encoded data removed]",
      "text/plain": [
       "<Figure size 432x288 with 1 Axes>"
      ]
     },
     "metadata": {
      "needs_background": "light"
     },
     "output_type": "display_data"
    },
    {
     "data": {
      "image/png": "[encoded data removed]",
      "text/plain": [
       "<Figure size 432x288 with 1 Axes>"
      ]
     },
     "metadata": {
      "needs_background": "light"
     },
     "output_type": "display_data"
    },
    {
     "data": {
      "image/png": "[encoded data removed]",
      "text/plain": [
       "<Figure size 432x288 with 1 Axes>"
      ]
     },
     "metadata": {
      "needs_background": "light"
     },
     "output_type": "display_data"
    },
    {
     "data": {
      "image/png": "[encoded data removed]",
      "text/plain": [
       "<Figure size 432x288 with 1 Axes>"
      ]
     },
     "metadata": {
      "needs_background": "light"
     },
     "output_type": "display_data"
    },
    {
     "data": {
      "image/png": "[encoded data removed]",
      "text/plain": [
       "<Figure size 432x288 with 1 Axes>"
      ]
     },
     "metadata": {
      "needs_background": "light"
     },
     "output_type": "display_data"
    },
    {
     "data": {
      "image/png": "[encoded data removed]",
      "text/plain": [
       "<Figure size 432x288 with 1 Axes>"
      ]
     },
     "metadata": {
      "needs_background": "light"
     },
     "output_type": "display_data"
    },
    {
     "data": {
      "image/png": "[encoded data removed]",
      "text/plain": [
       "<Figure size 432x288 with 1 Axes>"
      ]
     },
     "metadata": {
      "needs_background": "light"
     },
     "output_type": "display_data"
    },
    {
     "data": {
      "image/png": "[encoded data removed]",
      "text/plain": [
       "<Figure size 432x288 with 1 Axes>"
      ]
     },
     "metadata": {
      "needs_background": "light"
     },
     "output_type": "display_data"
    },
    {
     "data": {
      "image/png": "[encoded data removed]",
      "text/plain": [
       "<Figure size 432x288 with 1 Axes>"
      ]
     },
     "metadata": {
      "needs_background": "light"
     },
     "output_type": "display_data"
    },
    {
     "data": {
      "image/png": "[encoded data removed]",
      "text/plain": [
       "<Figure size 432x288 with 1 Axes>"
      ]
     },
     "metadata": {
      "needs_background": "light"
     },
     "output_type": "display_data"
    },
    {
     "data": {
      "image/png": "[encoded data removed]",
      "text/plain": [
       "<Figure size 432x288 with 1 Axes>"
      ]
     },
     "metadata": {
      "needs_background": "light"
     },
     "output_type": "display_data"
    },
    {
     "data": {
      "image/png": "[encoded data removed]",
      "text/plain": [
       "<Figure size 432x288 with 1 Axes>"
      ]
     },
     "metadata": {
      "needs_background": "light"
     },
     "output_type": "display_data"
    },
    {
     "data": {
      "image/png": "[encoded data removed]",
      "text/plain": [
       "<Figure size 432x288 with 1 Axes>"
      ]
     },
     "metadata": {
      "needs_background": "light"
     },
     "output_type": "display_data"
    },
    {
     "data": {
      "image/png": "[encoded data removed]",
      "text/plain": [
       "<Figure size 432x288 with 1 Axes>"
      ]
     },
     "metadata": {
      "needs_background": "light"
     },
     "output_type": "display_data"
    },
    {
     "data": {
      "image/png": "[encoded data removed]",
      "text/plain": [
       "<Figure size 432x288 with 1 Axes>"
      ]
     },
     "metadata": {
      "needs_background": "light"
     },
     "output_type": "display_data"
    }
   ],
   "source": [
    "for i in list(parent_ed['parental level of education'].value_counts().index): \n",
    "    temp = parent_ed[parent_ed['parental level of education'] == i].drop('parental level of education',axis=1)\n",
    "    for x in set(temp.columns):\n",
    "        plt.figure()\n",
    "        plt.hist(temp[x],bins=range(0,110,10))\n",
    "        plt.xlabel('Scores')\n",
    "        plt.ylabel('# of Students')\n",
    "        plt.title('{} {} Scores'.format(i,x))"
   ]
  },
  {
   "cell_type": "code",
   "execution_count": 21,
   "id": "34854f10",
   "metadata": {},
   "outputs": [],
   "source": [
    "#Turn into a function\n",
    "\n",
    "def mean_diff_sig(name, df,test_score_names=test_score_names):\n",
    "    \"\"\"\n",
    "    Determines if the difference between the means of each group are statistically significant\n",
    "    used when the data is not normally distibuted and when the variance is not the same as well\n",
    "    as a different number of samples in each group\n",
    "    The functions takes the following params: \n",
    "    name: name of the feature\n",
    "    df: data frame\n",
    "    test_score_names: already set equal to the column names of the test scores\n",
    "    \n",
    "    \"\"\"\n",
    "    data = []\n",
    "    dic = {}\n",
    "    #list of various types parental ed\n",
    "    for i in list(df[name].value_counts().index):\n",
    "        data.append(df[df[name] == i].drop(name,axis=1))\n",
    "    for i in test_score_names:\n",
    "        dic[i] = []\n",
    "        for x in data:\n",
    "            dic[i].append(x[i].values)\n",
    "    \n",
    "    for i in dic.keys():\n",
    "        stat,p_value = kruskal(*dic[i])\n",
    "        if p_value < .05:\n",
    "            print(f'reject Null at least one mean in {i} is different')\n",
    "        else:\n",
    "            print(f\"Fail to reject Null for {i}\")\n"
   ]
  },
  {
   "cell_type": "code",
   "execution_count": 22,
   "id": "2b5da2d4",
   "metadata": {},
   "outputs": [
    {
     "name": "stdout",
     "output_type": "stream",
     "text": [
      "reject Null at least one mean in writing score is different\n",
      "reject Null at least one mean in reading score is different\n",
      "reject Null at least one mean in math score is different\n"
     ]
    }
   ],
   "source": [
    "mean_diff_sig('parental level of education', parent_ed)"
   ]
  },
  {
   "cell_type": "code",
   "execution_count": 23,
   "id": "031eb3b4",
   "metadata": {},
   "outputs": [],
   "source": [
    "def graph(df, feature):\n",
    "    for i in list(df[feature].value_counts().index): \n",
    "        temp = df[df[feature] == i].drop('{}'.format(feature),axis=1)\n",
    "        for x in set(temp.columns):\n",
    "            plt.figure()\n",
    "            plt.hist(temp[x],bins=range(0,110,10))\n",
    "            plt.xlabel('Scores')\n",
    "            plt.ylabel('# of Students')\n",
    "            plt.title('{} {} Scores'.format(i,x))\n",
    "    plt.show()"
   ]
  },
  {
   "cell_type": "code",
   "execution_count": 24,
   "id": "fd9afd38",
   "metadata": {},
   "outputs": [],
   "source": [
    "def new_df(feature, df=df, groups=groups):\n",
    "    return df.drop([i for i in groups if i != feature], axis=1)"
   ]
  },
  {
   "cell_type": "code",
   "execution_count": 25,
   "id": "e34c5797",
   "metadata": {},
   "outputs": [],
   "source": [
    "lunches = new_df('lunch')"
   ]
  },
  {
   "cell_type": "code",
   "execution_count": 26,
   "id": "a5943578",
   "metadata": {},
   "outputs": [
    {
     "data": {
      "text/html": [
       "<div>\n",
       "<style scoped>\n",
       "    .dataframe tbody tr th:only-of-type {\n",
       "        vertical-align: middle;\n",
       "    }\n",
       "\n",
       "    .dataframe tbody tr th {\n",
       "        vertical-align: top;\n",
       "    }\n",
       "\n",
       "    .dataframe thead th {\n",
       "        text-align: right;\n",
       "    }\n",
       "</style>\n",
       "<table border=\"1\" class=\"dataframe\">\n",
       "  <thead>\n",
       "    <tr style=\"text-align: right;\">\n",
       "      <th></th>\n",
       "      <th>lunch</th>\n",
       "      <th>math score</th>\n",
       "      <th>reading score</th>\n",
       "      <th>writing score</th>\n",
       "    </tr>\n",
       "  </thead>\n",
       "  <tbody>\n",
       "    <tr>\n",
       "      <th>0</th>\n",
       "      <td>standard</td>\n",
       "      <td>59</td>\n",
       "      <td>70</td>\n",
       "      <td>78</td>\n",
       "    </tr>\n",
       "    <tr>\n",
       "      <th>1</th>\n",
       "      <td>standard</td>\n",
       "      <td>96</td>\n",
       "      <td>93</td>\n",
       "      <td>87</td>\n",
       "    </tr>\n",
       "    <tr>\n",
       "      <th>2</th>\n",
       "      <td>free/reduced</td>\n",
       "      <td>57</td>\n",
       "      <td>76</td>\n",
       "      <td>77</td>\n",
       "    </tr>\n",
       "    <tr>\n",
       "      <th>3</th>\n",
       "      <td>free/reduced</td>\n",
       "      <td>70</td>\n",
       "      <td>70</td>\n",
       "      <td>63</td>\n",
       "    </tr>\n",
       "    <tr>\n",
       "      <th>4</th>\n",
       "      <td>standard</td>\n",
       "      <td>83</td>\n",
       "      <td>85</td>\n",
       "      <td>86</td>\n",
       "    </tr>\n",
       "    <tr>\n",
       "      <th>...</th>\n",
       "      <td>...</td>\n",
       "      <td>...</td>\n",
       "      <td>...</td>\n",
       "      <td>...</td>\n",
       "    </tr>\n",
       "    <tr>\n",
       "      <th>995</th>\n",
       "      <td>standard</td>\n",
       "      <td>77</td>\n",
       "      <td>77</td>\n",
       "      <td>71</td>\n",
       "    </tr>\n",
       "    <tr>\n",
       "      <th>996</th>\n",
       "      <td>standard</td>\n",
       "      <td>80</td>\n",
       "      <td>66</td>\n",
       "      <td>66</td>\n",
       "    </tr>\n",
       "    <tr>\n",
       "      <th>997</th>\n",
       "      <td>standard</td>\n",
       "      <td>67</td>\n",
       "      <td>86</td>\n",
       "      <td>86</td>\n",
       "    </tr>\n",
       "    <tr>\n",
       "      <th>998</th>\n",
       "      <td>standard</td>\n",
       "      <td>80</td>\n",
       "      <td>72</td>\n",
       "      <td>62</td>\n",
       "    </tr>\n",
       "    <tr>\n",
       "      <th>999</th>\n",
       "      <td>standard</td>\n",
       "      <td>58</td>\n",
       "      <td>47</td>\n",
       "      <td>45</td>\n",
       "    </tr>\n",
       "  </tbody>\n",
       "</table>\n",
       "<p>1000 rows × 4 columns</p>\n",
       "</div>"
      ],
      "text/plain": [
       "            lunch  math score  reading score  writing score\n",
       "0        standard          59             70             78\n",
       "1        standard          96             93             87\n",
       "2    free/reduced          57             76             77\n",
       "3    free/reduced          70             70             63\n",
       "4        standard          83             85             86\n",
       "..            ...         ...            ...            ...\n",
       "995      standard          77             77             71\n",
       "996      standard          80             66             66\n",
       "997      standard          67             86             86\n",
       "998      standard          80             72             62\n",
       "999      standard          58             47             45\n",
       "\n",
       "[1000 rows x 4 columns]"
      ]
     },
     "execution_count": 26,
     "metadata": {},
     "output_type": "execute_result"
    }
   ],
   "source": [
    "lunches"
   ]
  },
  {
   "cell_type": "code",
   "execution_count": 27,
   "id": "2010f8d3",
   "metadata": {},
   "outputs": [
    {
     "data": {
      "image/png": "[encoded data removed]",
      "text/plain": [
       "<Figure size 432x288 with 1 Axes>"
      ]
     },
     "metadata": {
      "needs_background": "light"
     },
     "output_type": "display_data"
    },
    {
     "data": {
      "image/png": "[encoded data removed]",
      "text/plain": [
       "<Figure size 432x288 with 1 Axes>"
      ]
     },
     "metadata": {
      "needs_background": "light"
     },
     "output_type": "display_data"
    },
    {
     "data": {
      "image/png": "[encoded data removed]",
      "text/plain": [
       "<Figure size 432x288 with 1 Axes>"
      ]
     },
     "metadata": {
      "needs_background": "light"
     },
     "output_type": "display_data"
    },
    {
     "data": {
      "image/png": "[encoded data removed]",
      "text/plain": [
       "<Figure size 432x288 with 1 Axes>"
      ]
     },
     "metadata": {
      "needs_background": "light"
     },
     "output_type": "display_data"
    },
    {
     "data": {
      "image/png": "[encoded data removed]",
      "text/plain": [
       "<Figure size 432x288 with 1 Axes>"
      ]
     },
     "metadata": {
      "needs_background": "light"
     },
     "output_type": "display_data"
    },
    {
     "data": {
      "image/png": "[encoded data removed]",
      "text/plain": [
       "<Figure size 432x288 with 1 Axes>"
      ]
     },
     "metadata": {
      "needs_background": "light"
     },
     "output_type": "display_data"
    }
   ],
   "source": [
    "graph(lunches, 'lunch')"
   ]
  },
  {
   "cell_type": "code",
   "execution_count": 28,
   "id": "a0d0ba71",
   "metadata": {},
   "outputs": [],
   "source": [
    "#could also use Mann–Whitney U test but my data seems to at least somewhat approximate normal dist\n",
    "#t-test should be robutst enough and it appears highly likely just from observing the means and distribibutions\n",
    "#the means are siginificantly different doing this test just as a formality\n",
    "def two_means(df, feature, set1name, set2name):\n",
    "    one = df[df[feature] == set1name]\n",
    "    two = df[df[feature] == set2name]\n",
    "    \n",
    "    for i in male.columns:\n",
    "        t_stat,p_value = ttest_ind(one[i], two[i],equal_var=False)\n",
    "        if p_value < 0.05:\n",
    "            print(f\"Reject null the means are not the same for: {i}\")\n",
    "        else:\n",
    "            print(f\"Don't reject Null means appear to be similar: {i}\")"
   ]
  },
  {
   "cell_type": "code",
   "execution_count": 29,
   "id": "8814a286",
   "metadata": {},
   "outputs": [
    {
     "name": "stdout",
     "output_type": "stream",
     "text": [
      "Reject null the means are not the same for: writing score\n",
      "Reject null the means are not the same for: reading score\n",
      "Reject null the means are not the same for: math score\n"
     ]
    }
   ],
   "source": [
    "#two_means(lunches, 'lunch', 'standard', 'free/reduced')\n",
    "lunch_names = list(lunches['lunch'].value_counts().index)\n",
    "two_means(lunches, 'lunch', *lunch_names)\n",
    "\n"
   ]
  },
  {
   "cell_type": "code",
   "execution_count": 30,
   "id": "8e2719b4",
   "metadata": {},
   "outputs": [
    {
     "name": "stdout",
     "output_type": "stream",
     "text": [
      "              math score  reading score  writing score\n",
      "lunch                                                 \n",
      "free/reduced   59.900000      65.641176      64.235294\n",
      "standard       71.884848      72.824242      71.666667\n"
     ]
    }
   ],
   "source": [
    "means = lunches.groupby('lunch').mean()\n",
    "print(means)"
   ]
  },
  {
   "cell_type": "code",
   "execution_count": 31,
   "id": "c5a0a232",
   "metadata": {},
   "outputs": [],
   "source": [
    "#prep = new_df(feature, df=df, groups=groups)\n",
    "prep = new_df('test preparation course')"
   ]
  },
  {
   "cell_type": "code",
   "execution_count": 32,
   "id": "a3d8bc51",
   "metadata": {},
   "outputs": [
    {
     "name": "stdout",
     "output_type": "stream",
     "text": [
      "Help on function graph in module __main__:\n",
      "\n",
      "graph(df, feature)\n",
      "\n"
     ]
    },
    {
     "data": {
      "image/png": "[encoded data removed]",
      "text/plain": [
       "<Figure size 432x288 with 1 Axes>"
      ]
     },
     "metadata": {
      "needs_background": "light"
     },
     "output_type": "display_data"
    },
    {
     "data": {
      "image/png": "[encoded data removed]",
      "text/plain": [
       "<Figure size 432x288 with 1 Axes>"
      ]
     },
     "metadata": {
      "needs_background": "light"
     },
     "output_type": "display_data"
    },
    {
     "data": {
      "image/png": "[encoded data removed]",
      "text/plain": [
       "<Figure size 432x288 with 1 Axes>"
      ]
     },
     "metadata": {
      "needs_background": "light"
     },
     "output_type": "display_data"
    },
    {
     "data": {
      "image/png": "[encoded data removed]",
      "text/plain": [
       "<Figure size 432x288 with 1 Axes>"
      ]
     },
     "metadata": {
      "needs_background": "light"
     },
     "output_type": "display_data"
    },
    {
     "data": {
      "image/png": "[encoded data removed]",
      "text/plain": [
       "<Figure size 432x288 with 1 Axes>"
      ]
     },
     "metadata": {
      "needs_background": "light"
     },
     "output_type": "display_data"
    },
    {
     "data": {
      "image/png": "[encoded data removed]",
      "text/plain": [
       "<Figure size 432x288 with 1 Axes>"
      ]
     },
     "metadata": {
      "needs_background": "light"
     },
     "output_type": "display_data"
    }
   ],
   "source": [
    "help(graph)\n",
    "graph(prep, 'test preparation course')"
   ]
  },
  {
   "cell_type": "code",
   "execution_count": 33,
   "id": "d023b8c2",
   "metadata": {},
   "outputs": [
    {
     "name": "stdout",
     "output_type": "stream",
     "text": [
      "Reject null the means are not the same for: writing score\n",
      "Reject null the means are not the same for: reading score\n",
      "Reject null the means are not the same for: math score\n"
     ]
    }
   ],
   "source": [
    "prep_names = list(prep['test preparation course'].value_counts().index)\n",
    "two_means(prep, 'test preparation course', *prep_names)"
   ]
  },
  {
   "cell_type": "code",
   "execution_count": 34,
   "id": "2a669123",
   "metadata": {},
   "outputs": [],
   "source": [
    "def get_ranking(df):\n",
    "    score = {}\n",
    "    for i in df.index:\n",
    "        sum = 0\n",
    "        for x in df.columns:\n",
    "            sum+= df.loc[i][x]\n",
    "        score[i] = sum / len(df.columns)\n",
    "    x = dict(sorted(score.items(), key=lambda x: x[1]))\n",
    "    b = 1\n",
    "    for i in x.keys():\n",
    "        x[i] = b\n",
    "        b+=1\n",
    "    return x \n",
    "\n",
    "gender_rank = get_ranking(df.groupby('gender').mean())\n",
    "eth_rank = get_ranking(df.groupby('race/ethnicity').mean())\n",
    "education_rank = get_ranking(df.groupby('parental level of education').mean())\n",
    "lunch_rank = get_ranking(df.groupby('lunch').mean())\n",
    "prep_rank = get_ranking(df.groupby('test preparation course').mean())\n",
    "#Not sure if I'm biased and associates degree is a key error and it's meant to be doctorate\n",
    "#or if people who get an associates really just make more money shouldn't really effect\n",
    "#test though at least for this as long as all people above masters degree\n",
    "#are called associate's"
   ]
  },
  {
   "cell_type": "code",
   "execution_count": 35,
   "id": "efe59559",
   "metadata": {},
   "outputs": [
    {
     "data": {
      "text/html": [
       "<div>\n",
       "<style scoped>\n",
       "    .dataframe tbody tr th:only-of-type {\n",
       "        vertical-align: middle;\n",
       "    }\n",
       "\n",
       "    .dataframe tbody tr th {\n",
       "        vertical-align: top;\n",
       "    }\n",
       "\n",
       "    .dataframe thead th {\n",
       "        text-align: right;\n",
       "    }\n",
       "</style>\n",
       "<table border=\"1\" class=\"dataframe\">\n",
       "  <thead>\n",
       "    <tr style=\"text-align: right;\">\n",
       "      <th></th>\n",
       "      <th>gender</th>\n",
       "      <th>race/ethnicity</th>\n",
       "      <th>parental level of education</th>\n",
       "      <th>lunch</th>\n",
       "      <th>test preparation course</th>\n",
       "      <th>math score</th>\n",
       "      <th>reading score</th>\n",
       "      <th>writing score</th>\n",
       "    </tr>\n",
       "  </thead>\n",
       "  <tbody>\n",
       "    <tr>\n",
       "      <th>0</th>\n",
       "      <td>2</td>\n",
       "      <td>4</td>\n",
       "      <td>3</td>\n",
       "      <td>2</td>\n",
       "      <td>2</td>\n",
       "      <td>59</td>\n",
       "      <td>70</td>\n",
       "      <td>78</td>\n",
       "    </tr>\n",
       "    <tr>\n",
       "      <th>1</th>\n",
       "      <td>1</td>\n",
       "      <td>4</td>\n",
       "      <td>6</td>\n",
       "      <td>2</td>\n",
       "      <td>1</td>\n",
       "      <td>96</td>\n",
       "      <td>93</td>\n",
       "      <td>87</td>\n",
       "    </tr>\n",
       "    <tr>\n",
       "      <th>2</th>\n",
       "      <td>2</td>\n",
       "      <td>4</td>\n",
       "      <td>3</td>\n",
       "      <td>1</td>\n",
       "      <td>1</td>\n",
       "      <td>57</td>\n",
       "      <td>76</td>\n",
       "      <td>77</td>\n",
       "    </tr>\n",
       "    <tr>\n",
       "      <th>3</th>\n",
       "      <td>1</td>\n",
       "      <td>1</td>\n",
       "      <td>3</td>\n",
       "      <td>1</td>\n",
       "      <td>1</td>\n",
       "      <td>70</td>\n",
       "      <td>70</td>\n",
       "      <td>63</td>\n",
       "    </tr>\n",
       "    <tr>\n",
       "      <th>4</th>\n",
       "      <td>2</td>\n",
       "      <td>4</td>\n",
       "      <td>6</td>\n",
       "      <td>2</td>\n",
       "      <td>1</td>\n",
       "      <td>83</td>\n",
       "      <td>85</td>\n",
       "      <td>86</td>\n",
       "    </tr>\n",
       "    <tr>\n",
       "      <th>...</th>\n",
       "      <td>...</td>\n",
       "      <td>...</td>\n",
       "      <td>...</td>\n",
       "      <td>...</td>\n",
       "      <td>...</td>\n",
       "      <td>...</td>\n",
       "      <td>...</td>\n",
       "      <td>...</td>\n",
       "    </tr>\n",
       "    <tr>\n",
       "      <th>995</th>\n",
       "      <td>1</td>\n",
       "      <td>2</td>\n",
       "      <td>3</td>\n",
       "      <td>2</td>\n",
       "      <td>1</td>\n",
       "      <td>77</td>\n",
       "      <td>77</td>\n",
       "      <td>71</td>\n",
       "    </tr>\n",
       "    <tr>\n",
       "      <th>996</th>\n",
       "      <td>1</td>\n",
       "      <td>2</td>\n",
       "      <td>3</td>\n",
       "      <td>2</td>\n",
       "      <td>1</td>\n",
       "      <td>80</td>\n",
       "      <td>66</td>\n",
       "      <td>66</td>\n",
       "    </tr>\n",
       "    <tr>\n",
       "      <th>997</th>\n",
       "      <td>2</td>\n",
       "      <td>3</td>\n",
       "      <td>2</td>\n",
       "      <td>2</td>\n",
       "      <td>2</td>\n",
       "      <td>67</td>\n",
       "      <td>86</td>\n",
       "      <td>86</td>\n",
       "    </tr>\n",
       "    <tr>\n",
       "      <th>998</th>\n",
       "      <td>1</td>\n",
       "      <td>5</td>\n",
       "      <td>2</td>\n",
       "      <td>2</td>\n",
       "      <td>1</td>\n",
       "      <td>80</td>\n",
       "      <td>72</td>\n",
       "      <td>62</td>\n",
       "    </tr>\n",
       "    <tr>\n",
       "      <th>999</th>\n",
       "      <td>1</td>\n",
       "      <td>4</td>\n",
       "      <td>2</td>\n",
       "      <td>2</td>\n",
       "      <td>1</td>\n",
       "      <td>58</td>\n",
       "      <td>47</td>\n",
       "      <td>45</td>\n",
       "    </tr>\n",
       "  </tbody>\n",
       "</table>\n",
       "<p>1000 rows × 8 columns</p>\n",
       "</div>"
      ],
      "text/plain": [
       "     gender  race/ethnicity  parental level of education  lunch  \\\n",
       "0         2               4                            3      2   \n",
       "1         1               4                            6      2   \n",
       "2         2               4                            3      1   \n",
       "3         1               1                            3      1   \n",
       "4         2               4                            6      2   \n",
       "..      ...             ...                          ...    ...   \n",
       "995       1               2                            3      2   \n",
       "996       1               2                            3      2   \n",
       "997       2               3                            2      2   \n",
       "998       1               5                            2      2   \n",
       "999       1               4                            2      2   \n",
       "\n",
       "     test preparation course  math score  reading score  writing score  \n",
       "0                          2          59             70             78  \n",
       "1                          1          96             93             87  \n",
       "2                          1          57             76             77  \n",
       "3                          1          70             70             63  \n",
       "4                          1          83             85             86  \n",
       "..                       ...         ...            ...            ...  \n",
       "995                        1          77             77             71  \n",
       "996                        1          80             66             66  \n",
       "997                        2          67             86             86  \n",
       "998                        1          80             72             62  \n",
       "999                        1          58             47             45  \n",
       "\n",
       "[1000 rows x 8 columns]"
      ]
     },
     "execution_count": 35,
     "metadata": {},
     "output_type": "execute_result"
    }
   ],
   "source": [
    "import copy\n",
    "\n",
    "def factorize_col(df, dic, col):\n",
    "    df[col] = df[col].map(dic)\n",
    "    return df\n",
    "\n",
    "test_df = copy.deepcopy(df)\n",
    "\n",
    "test_df = factorize_col(test_df, gender_rank, 'gender')\n",
    "test_df = factorize_col(test_df, eth_rank, 'race/ethnicity')\n",
    "test_df = factorize_col(test_df, education_rank, 'parental level of education')\n",
    "test_df = factorize_col(test_df, lunch_rank, 'lunch')\n",
    "test_df = factorize_col(test_df, prep_rank, 'test preparation course')\n",
    "\n",
    "test_df"
   ]
  },
  {
   "cell_type": "code",
   "execution_count": 36,
   "id": "7294e76d",
   "metadata": {},
   "outputs": [],
   "source": [
    "#df_factorized = df.assign(**{col: pd.factorize(df[col])[0] for col in df.select_dtypes(include=['object'])})\n",
    "\n",
    "df_factorized = test_df"
   ]
  },
  {
   "cell_type": "code",
   "execution_count": 37,
   "id": "2da099fc",
   "metadata": {},
   "outputs": [
    {
     "data": {
      "text/html": [
       "<div>\n",
       "<style scoped>\n",
       "    .dataframe tbody tr th:only-of-type {\n",
       "        vertical-align: middle;\n",
       "    }\n",
       "\n",
       "    .dataframe tbody tr th {\n",
       "        vertical-align: top;\n",
       "    }\n",
       "\n",
       "    .dataframe thead th {\n",
       "        text-align: right;\n",
       "    }\n",
       "</style>\n",
       "<table border=\"1\" class=\"dataframe\">\n",
       "  <thead>\n",
       "    <tr style=\"text-align: right;\">\n",
       "      <th></th>\n",
       "      <th>gender</th>\n",
       "      <th>race/ethnicity</th>\n",
       "      <th>parental level of education</th>\n",
       "      <th>lunch</th>\n",
       "      <th>test preparation course</th>\n",
       "      <th>math score</th>\n",
       "      <th>reading score</th>\n",
       "      <th>writing score</th>\n",
       "    </tr>\n",
       "  </thead>\n",
       "  <tbody>\n",
       "    <tr>\n",
       "      <th>0</th>\n",
       "      <td>2</td>\n",
       "      <td>4</td>\n",
       "      <td>3</td>\n",
       "      <td>2</td>\n",
       "      <td>2</td>\n",
       "      <td>59</td>\n",
       "      <td>70</td>\n",
       "      <td>78</td>\n",
       "    </tr>\n",
       "    <tr>\n",
       "      <th>1</th>\n",
       "      <td>1</td>\n",
       "      <td>4</td>\n",
       "      <td>6</td>\n",
       "      <td>2</td>\n",
       "      <td>1</td>\n",
       "      <td>96</td>\n",
       "      <td>93</td>\n",
       "      <td>87</td>\n",
       "    </tr>\n",
       "    <tr>\n",
       "      <th>2</th>\n",
       "      <td>2</td>\n",
       "      <td>4</td>\n",
       "      <td>3</td>\n",
       "      <td>1</td>\n",
       "      <td>1</td>\n",
       "      <td>57</td>\n",
       "      <td>76</td>\n",
       "      <td>77</td>\n",
       "    </tr>\n",
       "    <tr>\n",
       "      <th>3</th>\n",
       "      <td>1</td>\n",
       "      <td>1</td>\n",
       "      <td>3</td>\n",
       "      <td>1</td>\n",
       "      <td>1</td>\n",
       "      <td>70</td>\n",
       "      <td>70</td>\n",
       "      <td>63</td>\n",
       "    </tr>\n",
       "    <tr>\n",
       "      <th>4</th>\n",
       "      <td>2</td>\n",
       "      <td>4</td>\n",
       "      <td>6</td>\n",
       "      <td>2</td>\n",
       "      <td>1</td>\n",
       "      <td>83</td>\n",
       "      <td>85</td>\n",
       "      <td>86</td>\n",
       "    </tr>\n",
       "    <tr>\n",
       "      <th>...</th>\n",
       "      <td>...</td>\n",
       "      <td>...</td>\n",
       "      <td>...</td>\n",
       "      <td>...</td>\n",
       "      <td>...</td>\n",
       "      <td>...</td>\n",
       "      <td>...</td>\n",
       "      <td>...</td>\n",
       "    </tr>\n",
       "    <tr>\n",
       "      <th>995</th>\n",
       "      <td>1</td>\n",
       "      <td>2</td>\n",
       "      <td>3</td>\n",
       "      <td>2</td>\n",
       "      <td>1</td>\n",
       "      <td>77</td>\n",
       "      <td>77</td>\n",
       "      <td>71</td>\n",
       "    </tr>\n",
       "    <tr>\n",
       "      <th>996</th>\n",
       "      <td>1</td>\n",
       "      <td>2</td>\n",
       "      <td>3</td>\n",
       "      <td>2</td>\n",
       "      <td>1</td>\n",
       "      <td>80</td>\n",
       "      <td>66</td>\n",
       "      <td>66</td>\n",
       "    </tr>\n",
       "    <tr>\n",
       "      <th>997</th>\n",
       "      <td>2</td>\n",
       "      <td>3</td>\n",
       "      <td>2</td>\n",
       "      <td>2</td>\n",
       "      <td>2</td>\n",
       "      <td>67</td>\n",
       "      <td>86</td>\n",
       "      <td>86</td>\n",
       "    </tr>\n",
       "    <tr>\n",
       "      <th>998</th>\n",
       "      <td>1</td>\n",
       "      <td>5</td>\n",
       "      <td>2</td>\n",
       "      <td>2</td>\n",
       "      <td>1</td>\n",
       "      <td>80</td>\n",
       "      <td>72</td>\n",
       "      <td>62</td>\n",
       "    </tr>\n",
       "    <tr>\n",
       "      <th>999</th>\n",
       "      <td>1</td>\n",
       "      <td>4</td>\n",
       "      <td>2</td>\n",
       "      <td>2</td>\n",
       "      <td>1</td>\n",
       "      <td>58</td>\n",
       "      <td>47</td>\n",
       "      <td>45</td>\n",
       "    </tr>\n",
       "  </tbody>\n",
       "</table>\n",
       "<p>1000 rows × 8 columns</p>\n",
       "</div>"
      ],
      "text/plain": [
       "     gender  race/ethnicity  parental level of education  lunch  \\\n",
       "0         2               4                            3      2   \n",
       "1         1               4                            6      2   \n",
       "2         2               4                            3      1   \n",
       "3         1               1                            3      1   \n",
       "4         2               4                            6      2   \n",
       "..      ...             ...                          ...    ...   \n",
       "995       1               2                            3      2   \n",
       "996       1               2                            3      2   \n",
       "997       2               3                            2      2   \n",
       "998       1               5                            2      2   \n",
       "999       1               4                            2      2   \n",
       "\n",
       "     test preparation course  math score  reading score  writing score  \n",
       "0                          2          59             70             78  \n",
       "1                          1          96             93             87  \n",
       "2                          1          57             76             77  \n",
       "3                          1          70             70             63  \n",
       "4                          1          83             85             86  \n",
       "..                       ...         ...            ...            ...  \n",
       "995                        1          77             77             71  \n",
       "996                        1          80             66             66  \n",
       "997                        2          67             86             86  \n",
       "998                        1          80             72             62  \n",
       "999                        1          58             47             45  \n",
       "\n",
       "[1000 rows x 8 columns]"
      ]
     },
     "execution_count": 37,
     "metadata": {},
     "output_type": "execute_result"
    }
   ],
   "source": [
    "df_factorized"
   ]
  },
  {
   "cell_type": "code",
   "execution_count": 38,
   "id": "1ee11b88",
   "metadata": {},
   "outputs": [
    {
     "name": "stdout",
     "output_type": "stream",
     "text": [
      "R squared score for math score using Linear regression is: 0.3141467260607502\n",
      "R squared score for reading score using Linear regression is: 0.16393925184590552\n",
      "R squared score for writing score using Linear regression is: 0.27253036330239433\n"
     ]
    }
   ],
   "source": [
    "#will also try crating models for just boys and jsut girls and maybe even \n",
    "\n",
    "from sklearn.linear_model import LinearRegression\n",
    "from sklearn.linear_model import LinearRegression\n",
    "from sklearn.model_selection import GridSearchCV\n",
    "from sklearn.metrics import mean_squared_error\n",
    "from sklearn.model_selection import train_test_split\n",
    "from sklearn.metrics import r2_score\n",
    "\n",
    "test_score_names = [i for i in cols if i[-5:] == 'score']\n",
    "groups = [i for i in cols if i[-5:] != 'score']\n",
    "\n",
    "#param_grid = {'fit_intercept': [True,False]}\n",
    "\n",
    "all_features = df_factorized.drop(test_score_names,axis=1)\n",
    "all_labels = df_factorized.drop(groups,axis=1)\n",
    "\n",
    "labels_dic = {}\n",
    "for i in all_labels.columns:\n",
    "    labels_dic[i] = all_labels[i].values\n",
    "\n",
    "test_data_dic = {}\n",
    "trained_models = {}\n",
    "real_test_vals = {}\n",
    "for i in labels_dic.keys():  \n",
    "    X_train, X_test, y_train, y_test = train_test_split(all_features, all_labels[i], test_size=0.2, random_state=42)\n",
    "    test_data_dic[i] = X_test\n",
    "    real_test_vals[i] = y_test.values\n",
    "    linearRegModel1 = LinearRegression()\n",
    "# Define the parameter grid to search over\n",
    "    #grid_search = GridSearchCV(linearRegModel1, param_grid, cv=5)\n",
    "    linearRegModel1.fit(X_train, y_train)\n",
    "    trained_models[i] = linearRegModel1\n",
    "    #print(\"Best parameters:\", grid_search.best_params_)\n",
    "    #print(\"Best MSE:\", -grid_search.best_score_)\n",
    "\n",
    "predictions = {}\n",
    "\n",
    "for i in trained_models.keys():\n",
    "    y_pred = trained_models[i].predict(test_data_dic[i])\n",
    "    predictions[i] = y_pred\n",
    "    score = r2_score(real_test_vals[i], y_pred)\n",
    "    print(f\"R squared score for {i} using Linear regression is: {score}\")\n",
    "#print(predictions)\n"
   ]
  },
  {
   "cell_type": "code",
   "execution_count": 39,
   "id": "748e5c04",
   "metadata": {},
   "outputs": [
    {
     "name": "stdout",
     "output_type": "stream",
     "text": [
      "writing score\n",
      "[70.37019194 74.83972013 75.15297661 52.86538026 66.00835344 53.27906887\n",
      " 65.59466483 66.48428219 64.60461533 79.21356676]\n"
     ]
    },
    {
     "data": {
      "text/plain": [
       "array([70, 80, 58, 66, 78, 51, 71, 28, 75, 88])"
      ]
     },
     "execution_count": 39,
     "metadata": {},
     "output_type": "execute_result"
    }
   ],
   "source": [
    "print(i)\n",
    "print(predictions[i][:10])\n",
    "real_test_vals[i][:10]"
   ]
  },
  {
   "cell_type": "markdown",
   "id": "26192517",
   "metadata": {},
   "source": [
    "## Not suprising that a linear regression model can not accuratley predict the test scores this job seems more fit for a decision tree although we will calculate how correlated each feature is with one another and then make a decision tree and possibly even a polynomial regression model"
   ]
  },
  {
   "cell_type": "code",
   "execution_count": 40,
   "id": "f5d93dd6",
   "metadata": {},
   "outputs": [],
   "source": [
    "from sklearn.preprocessing import PolynomialFeatures"
   ]
  },
  {
   "cell_type": "code",
   "execution_count": 41,
   "id": "4f3819dd",
   "metadata": {},
   "outputs": [
    {
     "name": "stdout",
     "output_type": "stream",
     "text": [
      "R squared score for math score using Linear regression is: 0.28208896597226696\n",
      "R squared score for reading score using Linear regression is: 0.1229820809690384\n",
      "R squared score for writing score using Linear regression is: 0.22051465652380786\n"
     ]
    }
   ],
   "source": [
    "test_data_dic = {}\n",
    "trained_models = {}\n",
    "real_test_vals = {}\n",
    "poly = PolynomialFeatures(degree=3)\n",
    "for i in labels_dic.keys():  \n",
    "    X_train, X_test, y_train, y_test = train_test_split(all_features, all_labels[i], test_size=0.2, random_state=42)\n",
    "    poly.fit(X_train)\n",
    "    test_data_dic[i] = X_test\n",
    "    real_test_vals[i] = y_test.values\n",
    "    linearRegModel1 = LinearRegression()\n",
    "# Define the parameter grid to search over\n",
    "    #grid_search = GridSearchCV(linearRegModel1, param_grid, cv=5)\n",
    "    X_train = poly.fit_transform(X_train)\n",
    "    linearRegModel1.fit(X_train, y_train)\n",
    "    trained_models[i] = linearRegModel1\n",
    "    #print(\"Best parameters:\", grid_search.best_params_)\n",
    "    #print(\"Best MSE:\", -grid_search.best_score_)\n",
    "\n",
    "predictions = {}\n",
    "\n",
    "for i in trained_models.keys():\n",
    "    poly.fit(test_data_dic[i])\n",
    "    X_train = poly.fit_transform(test_data_dic[i])\n",
    "    y_pred = trained_models[i].predict(X_train)\n",
    "    predictions[i] = y_pred\n",
    "    score = r2_score(real_test_vals[i], y_pred)\n",
    "    print(f\"R squared score for {i} using Linear regression is: {score}\")"
   ]
  },
  {
   "cell_type": "markdown",
   "id": "ff7b5f40",
   "metadata": {},
   "source": [
    "## Ploynomial regression is only slightly better but not enough to right home about as suspected a decision tree and or a random forrest is the way to go for this type of data"
   ]
  },
  {
   "cell_type": "code",
   "execution_count": 42,
   "id": "d85c0ace",
   "metadata": {},
   "outputs": [
    {
     "data": {
      "text/html": [
       "<div>\n",
       "<style scoped>\n",
       "    .dataframe tbody tr th:only-of-type {\n",
       "        vertical-align: middle;\n",
       "    }\n",
       "\n",
       "    .dataframe tbody tr th {\n",
       "        vertical-align: top;\n",
       "    }\n",
       "\n",
       "    .dataframe thead th {\n",
       "        text-align: right;\n",
       "    }\n",
       "</style>\n",
       "<table border=\"1\" class=\"dataframe\">\n",
       "  <thead>\n",
       "    <tr style=\"text-align: right;\">\n",
       "      <th></th>\n",
       "      <th>gender</th>\n",
       "      <th>race/ethnicity</th>\n",
       "      <th>parental level of education</th>\n",
       "      <th>lunch</th>\n",
       "      <th>test preparation course</th>\n",
       "      <th>math score</th>\n",
       "      <th>reading score</th>\n",
       "      <th>writing score</th>\n",
       "    </tr>\n",
       "  </thead>\n",
       "  <tbody>\n",
       "    <tr>\n",
       "      <th>gender</th>\n",
       "      <td>1.000000</td>\n",
       "      <td>-0.043976</td>\n",
       "      <td>-0.010968</td>\n",
       "      <td>-0.015708</td>\n",
       "      <td>0.032641</td>\n",
       "      <td>-0.195992</td>\n",
       "      <td>0.215775</td>\n",
       "      <td>0.281707</td>\n",
       "    </tr>\n",
       "    <tr>\n",
       "      <th>race/ethnicity</th>\n",
       "      <td>-0.043976</td>\n",
       "      <td>1.000000</td>\n",
       "      <td>-0.011359</td>\n",
       "      <td>0.039927</td>\n",
       "      <td>0.034311</td>\n",
       "      <td>0.248956</td>\n",
       "      <td>0.165580</td>\n",
       "      <td>0.187396</td>\n",
       "    </tr>\n",
       "    <tr>\n",
       "      <th>parental level of education</th>\n",
       "      <td>-0.010968</td>\n",
       "      <td>-0.011359</td>\n",
       "      <td>1.000000</td>\n",
       "      <td>-0.020079</td>\n",
       "      <td>0.001786</td>\n",
       "      <td>0.151615</td>\n",
       "      <td>0.131120</td>\n",
       "      <td>0.165711</td>\n",
       "    </tr>\n",
       "    <tr>\n",
       "      <th>lunch</th>\n",
       "      <td>-0.015708</td>\n",
       "      <td>0.039927</td>\n",
       "      <td>-0.020079</td>\n",
       "      <td>1.000000</td>\n",
       "      <td>-0.093498</td>\n",
       "      <td>0.372465</td>\n",
       "      <td>0.241319</td>\n",
       "      <td>0.234400</td>\n",
       "    </tr>\n",
       "    <tr>\n",
       "      <th>test preparation course</th>\n",
       "      <td>0.032641</td>\n",
       "      <td>0.034311</td>\n",
       "      <td>0.001786</td>\n",
       "      <td>-0.093498</td>\n",
       "      <td>1.000000</td>\n",
       "      <td>0.119925</td>\n",
       "      <td>0.223132</td>\n",
       "      <td>0.321520</td>\n",
       "    </tr>\n",
       "    <tr>\n",
       "      <th>math score</th>\n",
       "      <td>-0.195992</td>\n",
       "      <td>0.248956</td>\n",
       "      <td>0.151615</td>\n",
       "      <td>0.372465</td>\n",
       "      <td>0.119925</td>\n",
       "      <td>1.000000</td>\n",
       "      <td>0.811767</td>\n",
       "      <td>0.790055</td>\n",
       "    </tr>\n",
       "    <tr>\n",
       "      <th>reading score</th>\n",
       "      <td>0.215775</td>\n",
       "      <td>0.165580</td>\n",
       "      <td>0.131120</td>\n",
       "      <td>0.241319</td>\n",
       "      <td>0.223132</td>\n",
       "      <td>0.811767</td>\n",
       "      <td>1.000000</td>\n",
       "      <td>0.948909</td>\n",
       "    </tr>\n",
       "    <tr>\n",
       "      <th>writing score</th>\n",
       "      <td>0.281707</td>\n",
       "      <td>0.187396</td>\n",
       "      <td>0.165711</td>\n",
       "      <td>0.234400</td>\n",
       "      <td>0.321520</td>\n",
       "      <td>0.790055</td>\n",
       "      <td>0.948909</td>\n",
       "      <td>1.000000</td>\n",
       "    </tr>\n",
       "  </tbody>\n",
       "</table>\n",
       "</div>"
      ],
      "text/plain": [
       "                               gender  race/ethnicity  \\\n",
       "gender                       1.000000       -0.043976   \n",
       "race/ethnicity              -0.043976        1.000000   \n",
       "parental level of education -0.010968       -0.011359   \n",
       "lunch                       -0.015708        0.039927   \n",
       "test preparation course      0.032641        0.034311   \n",
       "math score                  -0.195992        0.248956   \n",
       "reading score                0.215775        0.165580   \n",
       "writing score                0.281707        0.187396   \n",
       "\n",
       "                             parental level of education     lunch  \\\n",
       "gender                                         -0.010968 -0.015708   \n",
       "race/ethnicity                                 -0.011359  0.039927   \n",
       "parental level of education                     1.000000 -0.020079   \n",
       "lunch                                          -0.020079  1.000000   \n",
       "test preparation course                         0.001786 -0.093498   \n",
       "math score                                      0.151615  0.372465   \n",
       "reading score                                   0.131120  0.241319   \n",
       "writing score                                   0.165711  0.234400   \n",
       "\n",
       "                             test preparation course  math score  \\\n",
       "gender                                      0.032641   -0.195992   \n",
       "race/ethnicity                              0.034311    0.248956   \n",
       "parental level of education                 0.001786    0.151615   \n",
       "lunch                                      -0.093498    0.372465   \n",
       "test preparation course                     1.000000    0.119925   \n",
       "math score                                  0.119925    1.000000   \n",
       "reading score                               0.223132    0.811767   \n",
       "writing score                               0.321520    0.790055   \n",
       "\n",
       "                             reading score  writing score  \n",
       "gender                            0.215775       0.281707  \n",
       "race/ethnicity                    0.165580       0.187396  \n",
       "parental level of education       0.131120       0.165711  \n",
       "lunch                             0.241319       0.234400  \n",
       "test preparation course           0.223132       0.321520  \n",
       "math score                        0.811767       0.790055  \n",
       "reading score                     1.000000       0.948909  \n",
       "writing score                     0.948909       1.000000  "
      ]
     },
     "execution_count": 42,
     "metadata": {},
     "output_type": "execute_result"
    }
   ],
   "source": [
    "df_factorized.corr()"
   ]
  },
  {
   "cell_type": "markdown",
   "id": "1d0e29e0",
   "metadata": {},
   "source": [
    "# Making a Decision Tree Regressor "
   ]
  },
  {
   "cell_type": "code",
   "execution_count": 43,
   "id": "78f2d9d5",
   "metadata": {},
   "outputs": [],
   "source": [
    "from sklearn.tree import DecisionTreeRegressor\n",
    "from sklearn.model_selection import cross_val_score\n",
    "#model = DecisionTreeRegressor(max_depth=15, random_state=42)"
   ]
  },
  {
   "cell_type": "code",
   "execution_count": 44,
   "id": "f8bcc958",
   "metadata": {},
   "outputs": [
    {
     "data": {
      "text/html": [
       "<style>#sk-container-id-1 {color: black;background-color: white;}#sk-container-id-1 pre{padding: 0;}#sk-container-id-1 div.sk-toggleable {background-color: white;}#sk-container-id-1 label.sk-toggleable__label {cursor: pointer;display: block;width: 100%;margin-bottom: 0;padding: 0.3em;box-sizing: border-box;text-align: center;}#sk-container-id-1 label.sk-toggleable__label-arrow:before {content: \"▸\";float: left;margin-right: 0.25em;color: #696969;}#sk-container-id-1 label.sk-toggleable__label-arrow:hover:before {color: black;}#sk-container-id-1 div.sk-estimator:hover label.sk-toggleable__label-arrow:before {color: black;}#sk-container-id-1 div.sk-toggleable__content {max-height: 0;max-width: 0;overflow: hidden;text-align: left;background-color: #f0f8ff;}#sk-container-id-1 div.sk-toggleable__content pre {margin: 0.2em;color: black;border-radius: 0.25em;background-color: #f0f8ff;}#sk-container-id-1 input.sk-toggleable__control:checked~div.sk-toggleable__content {max-height: 200px;max-width: 100%;overflow: auto;}#sk-container-id-1 input.sk-toggleable__control:checked~label.sk-toggleable__label-arrow:before {content: \"▾\";}#sk-container-id-1 div.sk-estimator input.sk-toggleable__control:checked~label.sk-toggleable__label {background-color: #d4ebff;}#sk-container-id-1 div.sk-label input.sk-toggleable__control:checked~label.sk-toggleable__label {background-color: #d4ebff;}#sk-container-id-1 input.sk-hidden--visually {border: 0;clip: rect(1px 1px 1px 1px);clip: rect(1px, 1px, 1px, 1px);height: 1px;margin: -1px;overflow: hidden;padding: 0;position: absolute;width: 1px;}#sk-container-id-1 div.sk-estimator {font-family: monospace;background-color: #f0f8ff;border: 1px dotted black;border-radius: 0.25em;box-sizing: border-box;margin-bottom: 0.5em;}#sk-container-id-1 div.sk-estimator:hover {background-color: #d4ebff;}#sk-container-id-1 div.sk-parallel-item::after {content: \"\";width: 100%;border-bottom: 1px solid gray;flex-grow: 1;}#sk-container-id-1 div.sk-label:hover label.sk-toggleable__label {background-color: #d4ebff;}#sk-container-id-1 div.sk-serial::before {content: \"\";position: absolute;border-left: 1px solid gray;box-sizing: border-box;top: 0;bottom: 0;left: 50%;z-index: 0;}#sk-container-id-1 div.sk-serial {display: flex;flex-direction: column;align-items: center;background-color: white;padding-right: 0.2em;padding-left: 0.2em;position: relative;}#sk-container-id-1 div.sk-item {position: relative;z-index: 1;}#sk-container-id-1 div.sk-parallel {display: flex;align-items: stretch;justify-content: center;background-color: white;position: relative;}#sk-container-id-1 div.sk-item::before, #sk-container-id-1 div.sk-parallel-item::before {content: \"\";position: absolute;border-left: 1px solid gray;box-sizing: border-box;top: 0;bottom: 0;left: 50%;z-index: -1;}#sk-container-id-1 div.sk-parallel-item {display: flex;flex-direction: column;z-index: 1;position: relative;background-color: white;}#sk-container-id-1 div.sk-parallel-item:first-child::after {align-self: flex-end;width: 50%;}#sk-container-id-1 div.sk-parallel-item:last-child::after {align-self: flex-start;width: 50%;}#sk-container-id-1 div.sk-parallel-item:only-child::after {width: 0;}#sk-container-id-1 div.sk-dashed-wrapped {border: 1px dashed gray;margin: 0 0.4em 0.5em 0.4em;box-sizing: border-box;padding-bottom: 0.4em;background-color: white;}#sk-container-id-1 div.sk-label label {font-family: monospace;font-weight: bold;display: inline-block;line-height: 1.2em;}#sk-container-id-1 div.sk-label-container {text-align: center;}#sk-container-id-1 div.sk-container {/* jupyter's `normalize.less` sets `[hidden] { display: none; }` but bootstrap.min.css set `[hidden] { display: none !important; }` so we also need the `!important` here to be able to override the default hidden behavior on the sphinx rendered scikit-learn.org. See: https://github.com/scikit-learn/scikit-learn/issues/21755 */display: inline-block !important;position: relative;}#sk-container-id-1 div.sk-text-repr-fallback {display: none;}</style><div id=\"sk-container-id-1\" class=\"sk-top-container\"><div class=\"sk-text-repr-fallback\"><pre>DecisionTreeRegressor(criterion=&#x27;friedman_mse&#x27;, max_depth=6,\n",
       "                      max_features=&#x27;auto&#x27;, min_samples_leaf=12, random_state=42,\n",
       "                      splitter=&#x27;random&#x27;)</pre><b>In a Jupyter environment, please rerun this cell to show the HTML representation or trust the notebook. <br />On GitHub, the HTML representation is unable to render, please try loading this page with nbviewer.org.</b></div><div class=\"sk-container\" hidden><div class=\"sk-item\"><div class=\"sk-estimator sk-toggleable\"><input class=\"sk-toggleable__control sk-hidden--visually\" id=\"sk-estimator-id-1\" type=\"checkbox\" checked><label for=\"sk-estimator-id-1\" class=\"sk-toggleable__label sk-toggleable__label-arrow\">DecisionTreeRegressor</label><div class=\"sk-toggleable__content\"><pre>DecisionTreeRegressor(criterion=&#x27;friedman_mse&#x27;, max_depth=6,\n",
       "                      max_features=&#x27;auto&#x27;, min_samples_leaf=12, random_state=42,\n",
       "                      splitter=&#x27;random&#x27;)</pre></div></div></div></div></div>"
      ],
      "text/plain": [
       "DecisionTreeRegressor(criterion='friedman_mse', max_depth=6,\n",
       "                      max_features='auto', min_samples_leaf=12, random_state=42,\n",
       "                      splitter='random')"
      ]
     },
     "execution_count": 44,
     "metadata": {},
     "output_type": "execute_result"
    }
   ],
   "source": [
    "#all_features = df_factorized.drop(test_score_names,axis=1)\n",
    "#all_labels = df_factorized.drop(groups,axis=1)\n",
    "\n",
    "#Picking the best model we will assume the best model for \n",
    "#predicting one test score will be the same for all but since\n",
    "#out data isn't overwhelmingly huge I may revice this is in the future and \n",
    "#get see if the depth changes \n",
    "import warnings\n",
    "from sklearn.exceptions import ConvergenceWarning\n",
    "warnings.filterwarnings('ignore')\n",
    "warnings.filterwarnings(action='ignore', category=ConvergenceWarning)\n",
    "'''\n",
    "param_grid = {'max_depth': [i for i in range(3,15,2)],\n",
    "              'min_samples_split': [i/10 for i in range(2,12,2)],\n",
    "              'min_samples_leaf': [i/10 for i in range(2,12,2)],\n",
    "              'criterion': ['mse', 'friedman_mse', 'mae'],\n",
    "              'splitter': ['best', 'random'],\n",
    "              'max_features': ['auto', 'sqrt', 'log2']}\n",
    "'''\n",
    "param_grid = {'max_depth': [2, 4, 6, 8, 10],\n",
    "              'min_samples_split': [2, 4, 6, 8, 10,12,14],\n",
    "              'min_samples_leaf': [1, 2, 4, 6, 8, 10,12,14],\n",
    "              'criterion': ['mse', 'friedman_mse', 'mae'],\n",
    "              'splitter': ['best', 'random'],\n",
    "              'max_features': ['auto', 'sqrt', 'log2']}\n",
    "dt_reg = DecisionTreeRegressor(random_state=42)\n",
    "\n",
    "grid_search = GridSearchCV(dt_reg, param_grid, cv=5)\n",
    "X_train, X_test, y_train, y_test = train_test_split(all_features, all_labels['math score'], test_size=0.2, random_state=42)\n",
    "grid_search.fit(X_train,y_train)\n",
    "\n",
    "best_dt_reg = grid_search.best_estimator_\n",
    "\n",
    "best_dt_reg"
   ]
  },
  {
   "cell_type": "code",
   "execution_count": 45,
   "id": "5b8eae0b",
   "metadata": {},
   "outputs": [
    {
     "name": "stdout",
     "output_type": "stream",
     "text": [
      "R-squared score on testing data: 0.2495279500585883\n"
     ]
    }
   ],
   "source": [
    "best_params = best_dt_reg.get_params()\n",
    "dt_reg = DecisionTreeRegressor(**best_params)\n",
    "\n",
    "dt_reg.fit(X_train,y_train)\n",
    "preds = dt_reg.predict(X_test)\n",
    "score = dt_reg.score(X_test, y_test)\n",
    "print(f\"R-squared score on testing data: {score}\")\n"
   ]
  },
  {
   "cell_type": "code",
   "execution_count": 46,
   "id": "1a33724e",
   "metadata": {},
   "outputs": [
    {
     "name": "stdout",
     "output_type": "stream",
     "text": [
      "[71.57894737 78.43103448 63.72       58.14285714 80.83333333 59.16666667\n",
      " 72.75       50.4        80.83333333 77.15384615]\n",
      "\n",
      "[67 78 39 70 90 51 76 28 94 85]\n"
     ]
    }
   ],
   "source": [
    "print(preds[:10])\n",
    "print()\n",
    "print(y_test[:10].values)"
   ]
  },
  {
   "cell_type": "code",
   "execution_count": 47,
   "id": "b9ab6de6",
   "metadata": {},
   "outputs": [
    {
     "name": "stdout",
     "output_type": "stream",
     "text": [
      "Best hyperparameters: {'bootstrap': True, 'criterion': 'friedman_mse', 'max_depth': 5, 'max_features': 'sqrt', 'min_samples_leaf': 1, 'min_samples_split': 2, 'n_estimators': 200}\n"
     ]
    }
   ],
   "source": [
    "from sklearn.ensemble import RandomForestRegressor\n",
    "\n",
    "# Define the hyperparameters to search over\n",
    "param_grid = {\n",
    "    'criterion': ['squared_error', 'absolute_error', 'friedman_mse', 'poisson'],\n",
    "    'n_estimators': [100, 200, 300],\n",
    "    'max_features': ['auto', 'sqrt'],\n",
    "    'max_depth': [None, 5, 10],\n",
    "    'min_samples_split': [2, 5, 10],\n",
    "    'min_samples_leaf': [1, 2, 4],\n",
    "    'bootstrap': [True, False]\n",
    "}\n",
    "\n",
    "# Create a random forest regressor\n",
    "rf = RandomForestRegressor()\n",
    "\n",
    "# Perform a grid search over the hyperparameters\n",
    "grid_search = GridSearchCV(estimator=rf, param_grid=param_grid, cv=5)\n",
    "grid_search.fit(X_train, y_train)\n",
    "\n",
    "# Print the best hyperparameters\n",
    "print('Best hyperparameters:', grid_search.best_params_)\n",
    "\n",
    "forrest_params = grid_search.best_params_\n"
   ]
  },
  {
   "cell_type": "code",
   "execution_count": 62,
   "id": "1e39c7b0",
   "metadata": {},
   "outputs": [
    {
     "data": {
      "text/html": [
       "<style>#sk-container-id-3 {color: black;background-color: white;}#sk-container-id-3 pre{padding: 0;}#sk-container-id-3 div.sk-toggleable {background-color: white;}#sk-container-id-3 label.sk-toggleable__label {cursor: pointer;display: block;width: 100%;margin-bottom: 0;padding: 0.3em;box-sizing: border-box;text-align: center;}#sk-container-id-3 label.sk-toggleable__label-arrow:before {content: \"▸\";float: left;margin-right: 0.25em;color: #696969;}#sk-container-id-3 label.sk-toggleable__label-arrow:hover:before {color: black;}#sk-container-id-3 div.sk-estimator:hover label.sk-toggleable__label-arrow:before {color: black;}#sk-container-id-3 div.sk-toggleable__content {max-height: 0;max-width: 0;overflow: hidden;text-align: left;background-color: #f0f8ff;}#sk-container-id-3 div.sk-toggleable__content pre {margin: 0.2em;color: black;border-radius: 0.25em;background-color: #f0f8ff;}#sk-container-id-3 input.sk-toggleable__control:checked~div.sk-toggleable__content {max-height: 200px;max-width: 100%;overflow: auto;}#sk-container-id-3 input.sk-toggleable__control:checked~label.sk-toggleable__label-arrow:before {content: \"▾\";}#sk-container-id-3 div.sk-estimator input.sk-toggleable__control:checked~label.sk-toggleable__label {background-color: #d4ebff;}#sk-container-id-3 div.sk-label input.sk-toggleable__control:checked~label.sk-toggleable__label {background-color: #d4ebff;}#sk-container-id-3 input.sk-hidden--visually {border: 0;clip: rect(1px 1px 1px 1px);clip: rect(1px, 1px, 1px, 1px);height: 1px;margin: -1px;overflow: hidden;padding: 0;position: absolute;width: 1px;}#sk-container-id-3 div.sk-estimator {font-family: monospace;background-color: #f0f8ff;border: 1px dotted black;border-radius: 0.25em;box-sizing: border-box;margin-bottom: 0.5em;}#sk-container-id-3 div.sk-estimator:hover {background-color: #d4ebff;}#sk-container-id-3 div.sk-parallel-item::after {content: \"\";width: 100%;border-bottom: 1px solid gray;flex-grow: 1;}#sk-container-id-3 div.sk-label:hover label.sk-toggleable__label {background-color: #d4ebff;}#sk-container-id-3 div.sk-serial::before {content: \"\";position: absolute;border-left: 1px solid gray;box-sizing: border-box;top: 0;bottom: 0;left: 50%;z-index: 0;}#sk-container-id-3 div.sk-serial {display: flex;flex-direction: column;align-items: center;background-color: white;padding-right: 0.2em;padding-left: 0.2em;position: relative;}#sk-container-id-3 div.sk-item {position: relative;z-index: 1;}#sk-container-id-3 div.sk-parallel {display: flex;align-items: stretch;justify-content: center;background-color: white;position: relative;}#sk-container-id-3 div.sk-item::before, #sk-container-id-3 div.sk-parallel-item::before {content: \"\";position: absolute;border-left: 1px solid gray;box-sizing: border-box;top: 0;bottom: 0;left: 50%;z-index: -1;}#sk-container-id-3 div.sk-parallel-item {display: flex;flex-direction: column;z-index: 1;position: relative;background-color: white;}#sk-container-id-3 div.sk-parallel-item:first-child::after {align-self: flex-end;width: 50%;}#sk-container-id-3 div.sk-parallel-item:last-child::after {align-self: flex-start;width: 50%;}#sk-container-id-3 div.sk-parallel-item:only-child::after {width: 0;}#sk-container-id-3 div.sk-dashed-wrapped {border: 1px dashed gray;margin: 0 0.4em 0.5em 0.4em;box-sizing: border-box;padding-bottom: 0.4em;background-color: white;}#sk-container-id-3 div.sk-label label {font-family: monospace;font-weight: bold;display: inline-block;line-height: 1.2em;}#sk-container-id-3 div.sk-label-container {text-align: center;}#sk-container-id-3 div.sk-container {/* jupyter's `normalize.less` sets `[hidden] { display: none; }` but bootstrap.min.css set `[hidden] { display: none !important; }` so we also need the `!important` here to be able to override the default hidden behavior on the sphinx rendered scikit-learn.org. See: https://github.com/scikit-learn/scikit-learn/issues/21755 */display: inline-block !important;position: relative;}#sk-container-id-3 div.sk-text-repr-fallback {display: none;}</style><div id=\"sk-container-id-3\" class=\"sk-top-container\"><div class=\"sk-text-repr-fallback\"><pre>RandomForestRegressor()</pre><b>In a Jupyter environment, please rerun this cell to show the HTML representation or trust the notebook. <br />On GitHub, the HTML representation is unable to render, please try loading this page with nbviewer.org.</b></div><div class=\"sk-container\" hidden><div class=\"sk-item\"><div class=\"sk-estimator sk-toggleable\"><input class=\"sk-toggleable__control sk-hidden--visually\" id=\"sk-estimator-id-3\" type=\"checkbox\" checked><label for=\"sk-estimator-id-3\" class=\"sk-toggleable__label sk-toggleable__label-arrow\">RandomForestRegressor</label><div class=\"sk-toggleable__content\"><pre>RandomForestRegressor()</pre></div></div></div></div></div>"
      ],
      "text/plain": [
       "RandomForestRegressor()"
      ]
     },
     "execution_count": 62,
     "metadata": {},
     "output_type": "execute_result"
    }
   ],
   "source": [
    "#Visulize the decision tree\n",
    "'''\n",
    "from sklearn.tree import export_graphviz\n",
    "import graphviz\n",
    "\n",
    "dot_data = export_graphviz(dt_reg, out_file=None, \n",
    "                           feature_names=X_test.columns.tolist(), \n",
    "                           filled=True, rounded=True, \n",
    "                           special_characters=True)\n",
    "\n",
    "graph = graphviz.Source(dot_data)\n",
    "graph\n",
    "'''\n",
    "rf"
   ]
  },
  {
   "cell_type": "code",
   "execution_count": 67,
   "id": "3dae359e",
   "metadata": {},
   "outputs": [
    {
     "data": {
      "text/html": [
       "<style>#sk-container-id-4 {color: black;background-color: white;}#sk-container-id-4 pre{padding: 0;}#sk-container-id-4 div.sk-toggleable {background-color: white;}#sk-container-id-4 label.sk-toggleable__label {cursor: pointer;display: block;width: 100%;margin-bottom: 0;padding: 0.3em;box-sizing: border-box;text-align: center;}#sk-container-id-4 label.sk-toggleable__label-arrow:before {content: \"▸\";float: left;margin-right: 0.25em;color: #696969;}#sk-container-id-4 label.sk-toggleable__label-arrow:hover:before {color: black;}#sk-container-id-4 div.sk-estimator:hover label.sk-toggleable__label-arrow:before {color: black;}#sk-container-id-4 div.sk-toggleable__content {max-height: 0;max-width: 0;overflow: hidden;text-align: left;background-color: #f0f8ff;}#sk-container-id-4 div.sk-toggleable__content pre {margin: 0.2em;color: black;border-radius: 0.25em;background-color: #f0f8ff;}#sk-container-id-4 input.sk-toggleable__control:checked~div.sk-toggleable__content {max-height: 200px;max-width: 100%;overflow: auto;}#sk-container-id-4 input.sk-toggleable__control:checked~label.sk-toggleable__label-arrow:before {content: \"▾\";}#sk-container-id-4 div.sk-estimator input.sk-toggleable__control:checked~label.sk-toggleable__label {background-color: #d4ebff;}#sk-container-id-4 div.sk-label input.sk-toggleable__control:checked~label.sk-toggleable__label {background-color: #d4ebff;}#sk-container-id-4 input.sk-hidden--visually {border: 0;clip: rect(1px 1px 1px 1px);clip: rect(1px, 1px, 1px, 1px);height: 1px;margin: -1px;overflow: hidden;padding: 0;position: absolute;width: 1px;}#sk-container-id-4 div.sk-estimator {font-family: monospace;background-color: #f0f8ff;border: 1px dotted black;border-radius: 0.25em;box-sizing: border-box;margin-bottom: 0.5em;}#sk-container-id-4 div.sk-estimator:hover {background-color: #d4ebff;}#sk-container-id-4 div.sk-parallel-item::after {content: \"\";width: 100%;border-bottom: 1px solid gray;flex-grow: 1;}#sk-container-id-4 div.sk-label:hover label.sk-toggleable__label {background-color: #d4ebff;}#sk-container-id-4 div.sk-serial::before {content: \"\";position: absolute;border-left: 1px solid gray;box-sizing: border-box;top: 0;bottom: 0;left: 50%;z-index: 0;}#sk-container-id-4 div.sk-serial {display: flex;flex-direction: column;align-items: center;background-color: white;padding-right: 0.2em;padding-left: 0.2em;position: relative;}#sk-container-id-4 div.sk-item {position: relative;z-index: 1;}#sk-container-id-4 div.sk-parallel {display: flex;align-items: stretch;justify-content: center;background-color: white;position: relative;}#sk-container-id-4 div.sk-item::before, #sk-container-id-4 div.sk-parallel-item::before {content: \"\";position: absolute;border-left: 1px solid gray;box-sizing: border-box;top: 0;bottom: 0;left: 50%;z-index: -1;}#sk-container-id-4 div.sk-parallel-item {display: flex;flex-direction: column;z-index: 1;position: relative;background-color: white;}#sk-container-id-4 div.sk-parallel-item:first-child::after {align-self: flex-end;width: 50%;}#sk-container-id-4 div.sk-parallel-item:last-child::after {align-self: flex-start;width: 50%;}#sk-container-id-4 div.sk-parallel-item:only-child::after {width: 0;}#sk-container-id-4 div.sk-dashed-wrapped {border: 1px dashed gray;margin: 0 0.4em 0.5em 0.4em;box-sizing: border-box;padding-bottom: 0.4em;background-color: white;}#sk-container-id-4 div.sk-label label {font-family: monospace;font-weight: bold;display: inline-block;line-height: 1.2em;}#sk-container-id-4 div.sk-label-container {text-align: center;}#sk-container-id-4 div.sk-container {/* jupyter's `normalize.less` sets `[hidden] { display: none; }` but bootstrap.min.css set `[hidden] { display: none !important; }` so we also need the `!important` here to be able to override the default hidden behavior on the sphinx rendered scikit-learn.org. See: https://github.com/scikit-learn/scikit-learn/issues/21755 */display: inline-block !important;position: relative;}#sk-container-id-4 div.sk-text-repr-fallback {display: none;}</style><div id=\"sk-container-id-4\" class=\"sk-top-container\"><div class=\"sk-text-repr-fallback\"><pre>RandomForestRegressor(criterion=&#x27;friedman_mse&#x27;, max_depth=5,\n",
       "                      max_features=&#x27;sqrt&#x27;, n_estimators=200)</pre><b>In a Jupyter environment, please rerun this cell to show the HTML representation or trust the notebook. <br />On GitHub, the HTML representation is unable to render, please try loading this page with nbviewer.org.</b></div><div class=\"sk-container\" hidden><div class=\"sk-item\"><div class=\"sk-estimator sk-toggleable\"><input class=\"sk-toggleable__control sk-hidden--visually\" id=\"sk-estimator-id-4\" type=\"checkbox\" checked><label for=\"sk-estimator-id-4\" class=\"sk-toggleable__label sk-toggleable__label-arrow\">RandomForestRegressor</label><div class=\"sk-toggleable__content\"><pre>RandomForestRegressor(criterion=&#x27;friedman_mse&#x27;, max_depth=5,\n",
       "                      max_features=&#x27;sqrt&#x27;, n_estimators=200)</pre></div></div></div></div></div>"
      ],
      "text/plain": [
       "RandomForestRegressor(criterion='friedman_mse', max_depth=5,\n",
       "                      max_features='sqrt', n_estimators=200)"
      ]
     },
     "execution_count": 67,
     "metadata": {},
     "output_type": "execute_result"
    }
   ],
   "source": [
    "rf = RandomForestRegressor(**forrest_params)\n",
    "rf.fit(X_train, y_train)\n"
   ]
  },
  {
   "cell_type": "code",
   "execution_count": 69,
   "id": "564af8d5",
   "metadata": {},
   "outputs": [
    {
     "name": "stdout",
     "output_type": "stream",
     "text": [
      "R-squared: 0.3050\n"
     ]
    }
   ],
   "source": [
    "#random forrest gives by far the best results still not great but much better\n",
    "results = rf.predict(X_test)\n",
    "r_squared = r2_score(y_test, results)\n",
    "\n",
    "print('R-squared: {:.4f}'.format(r_squared))"
   ]
  },
  {
   "cell_type": "code",
   "execution_count": 70,
   "id": "4881d395",
   "metadata": {},
   "outputs": [],
   "source": [
    "#Will try and get the total score from all three test scores as a percentage \n",
    "#and then we will try and get a prediction\n",
    "#can then try and classify by either A,B,C,D,F \n",
    "#corresponding to: 90-100,80-89,70-79,60-69,0-59"
   ]
  },
  {
   "cell_type": "code",
   "execution_count": 86,
   "id": "300d8037",
   "metadata": {},
   "outputs": [],
   "source": [
    "df['total'] = df[test_score_names].sum(axis=1)/300"
   ]
  },
  {
   "cell_type": "code",
   "execution_count": 87,
   "id": "5a2b4730",
   "metadata": {},
   "outputs": [
    {
     "data": {
      "text/html": [
       "<div>\n",
       "<style scoped>\n",
       "    .dataframe tbody tr th:only-of-type {\n",
       "        vertical-align: middle;\n",
       "    }\n",
       "\n",
       "    .dataframe tbody tr th {\n",
       "        vertical-align: top;\n",
       "    }\n",
       "\n",
       "    .dataframe thead th {\n",
       "        text-align: right;\n",
       "    }\n",
       "</style>\n",
       "<table border=\"1\" class=\"dataframe\">\n",
       "  <thead>\n",
       "    <tr style=\"text-align: right;\">\n",
       "      <th></th>\n",
       "      <th>gender</th>\n",
       "      <th>race/ethnicity</th>\n",
       "      <th>parental level of education</th>\n",
       "      <th>lunch</th>\n",
       "      <th>test preparation course</th>\n",
       "      <th>math score</th>\n",
       "      <th>reading score</th>\n",
       "      <th>writing score</th>\n",
       "      <th>total</th>\n",
       "    </tr>\n",
       "  </thead>\n",
       "  <tbody>\n",
       "    <tr>\n",
       "      <th>0</th>\n",
       "      <td>female</td>\n",
       "      <td>group D</td>\n",
       "      <td>some college</td>\n",
       "      <td>standard</td>\n",
       "      <td>completed</td>\n",
       "      <td>59</td>\n",
       "      <td>70</td>\n",
       "      <td>78</td>\n",
       "      <td>0.690000</td>\n",
       "    </tr>\n",
       "    <tr>\n",
       "      <th>1</th>\n",
       "      <td>male</td>\n",
       "      <td>group D</td>\n",
       "      <td>associate's degree</td>\n",
       "      <td>standard</td>\n",
       "      <td>none</td>\n",
       "      <td>96</td>\n",
       "      <td>93</td>\n",
       "      <td>87</td>\n",
       "      <td>0.920000</td>\n",
       "    </tr>\n",
       "    <tr>\n",
       "      <th>2</th>\n",
       "      <td>female</td>\n",
       "      <td>group D</td>\n",
       "      <td>some college</td>\n",
       "      <td>free/reduced</td>\n",
       "      <td>none</td>\n",
       "      <td>57</td>\n",
       "      <td>76</td>\n",
       "      <td>77</td>\n",
       "      <td>0.700000</td>\n",
       "    </tr>\n",
       "    <tr>\n",
       "      <th>3</th>\n",
       "      <td>male</td>\n",
       "      <td>group B</td>\n",
       "      <td>some college</td>\n",
       "      <td>free/reduced</td>\n",
       "      <td>none</td>\n",
       "      <td>70</td>\n",
       "      <td>70</td>\n",
       "      <td>63</td>\n",
       "      <td>0.676667</td>\n",
       "    </tr>\n",
       "    <tr>\n",
       "      <th>4</th>\n",
       "      <td>female</td>\n",
       "      <td>group D</td>\n",
       "      <td>associate's degree</td>\n",
       "      <td>standard</td>\n",
       "      <td>none</td>\n",
       "      <td>83</td>\n",
       "      <td>85</td>\n",
       "      <td>86</td>\n",
       "      <td>0.846667</td>\n",
       "    </tr>\n",
       "    <tr>\n",
       "      <th>...</th>\n",
       "      <td>...</td>\n",
       "      <td>...</td>\n",
       "      <td>...</td>\n",
       "      <td>...</td>\n",
       "      <td>...</td>\n",
       "      <td>...</td>\n",
       "      <td>...</td>\n",
       "      <td>...</td>\n",
       "      <td>...</td>\n",
       "    </tr>\n",
       "    <tr>\n",
       "      <th>995</th>\n",
       "      <td>male</td>\n",
       "      <td>group C</td>\n",
       "      <td>some college</td>\n",
       "      <td>standard</td>\n",
       "      <td>none</td>\n",
       "      <td>77</td>\n",
       "      <td>77</td>\n",
       "      <td>71</td>\n",
       "      <td>0.750000</td>\n",
       "    </tr>\n",
       "    <tr>\n",
       "      <th>996</th>\n",
       "      <td>male</td>\n",
       "      <td>group C</td>\n",
       "      <td>some college</td>\n",
       "      <td>standard</td>\n",
       "      <td>none</td>\n",
       "      <td>80</td>\n",
       "      <td>66</td>\n",
       "      <td>66</td>\n",
       "      <td>0.706667</td>\n",
       "    </tr>\n",
       "    <tr>\n",
       "      <th>997</th>\n",
       "      <td>female</td>\n",
       "      <td>group A</td>\n",
       "      <td>high school</td>\n",
       "      <td>standard</td>\n",
       "      <td>completed</td>\n",
       "      <td>67</td>\n",
       "      <td>86</td>\n",
       "      <td>86</td>\n",
       "      <td>0.796667</td>\n",
       "    </tr>\n",
       "    <tr>\n",
       "      <th>998</th>\n",
       "      <td>male</td>\n",
       "      <td>group E</td>\n",
       "      <td>high school</td>\n",
       "      <td>standard</td>\n",
       "      <td>none</td>\n",
       "      <td>80</td>\n",
       "      <td>72</td>\n",
       "      <td>62</td>\n",
       "      <td>0.713333</td>\n",
       "    </tr>\n",
       "    <tr>\n",
       "      <th>999</th>\n",
       "      <td>male</td>\n",
       "      <td>group D</td>\n",
       "      <td>high school</td>\n",
       "      <td>standard</td>\n",
       "      <td>none</td>\n",
       "      <td>58</td>\n",
       "      <td>47</td>\n",
       "      <td>45</td>\n",
       "      <td>0.500000</td>\n",
       "    </tr>\n",
       "  </tbody>\n",
       "</table>\n",
       "<p>1000 rows × 9 columns</p>\n",
       "</div>"
      ],
      "text/plain": [
       "     gender race/ethnicity parental level of education         lunch  \\\n",
       "0    female        group D                some college      standard   \n",
       "1      male        group D          associate's degree      standard   \n",
       "2    female        group D                some college  free/reduced   \n",
       "3      male        group B                some college  free/reduced   \n",
       "4    female        group D          associate's degree      standard   \n",
       "..      ...            ...                         ...           ...   \n",
       "995    male        group C                some college      standard   \n",
       "996    male        group C                some college      standard   \n",
       "997  female        group A                 high school      standard   \n",
       "998    male        group E                 high school      standard   \n",
       "999    male        group D                 high school      standard   \n",
       "\n",
       "    test preparation course  math score  reading score  writing score  \\\n",
       "0                 completed          59             70             78   \n",
       "1                      none          96             93             87   \n",
       "2                      none          57             76             77   \n",
       "3                      none          70             70             63   \n",
       "4                      none          83             85             86   \n",
       "..                      ...         ...            ...            ...   \n",
       "995                    none          77             77             71   \n",
       "996                    none          80             66             66   \n",
       "997               completed          67             86             86   \n",
       "998                    none          80             72             62   \n",
       "999                    none          58             47             45   \n",
       "\n",
       "        total  \n",
       "0    0.690000  \n",
       "1    0.920000  \n",
       "2    0.700000  \n",
       "3    0.676667  \n",
       "4    0.846667  \n",
       "..        ...  \n",
       "995  0.750000  \n",
       "996  0.706667  \n",
       "997  0.796667  \n",
       "998  0.713333  \n",
       "999  0.500000  \n",
       "\n",
       "[1000 rows x 9 columns]"
      ]
     },
     "execution_count": 87,
     "metadata": {},
     "output_type": "execute_result"
    }
   ],
   "source": [
    "df"
   ]
  },
  {
   "cell_type": "code",
   "execution_count": 95,
   "id": "eb5b5ff4",
   "metadata": {},
   "outputs": [],
   "source": [
    "score_bins = [0, .59, .69, .79, .89, 1]\n",
    "grade_labels = ['F', 'D', 'C', 'B', 'A']\n",
    "# use pd.cut to convert the scores to grades\n",
    "df['Grade'] = pd.cut(df['total'], bins=score_bins, labels=grade_labels, include_lowest=True)"
   ]
  },
  {
   "cell_type": "code",
   "execution_count": 96,
   "id": "d799cd0f",
   "metadata": {},
   "outputs": [
    {
     "data": {
      "text/html": [
       "<div>\n",
       "<style scoped>\n",
       "    .dataframe tbody tr th:only-of-type {\n",
       "        vertical-align: middle;\n",
       "    }\n",
       "\n",
       "    .dataframe tbody tr th {\n",
       "        vertical-align: top;\n",
       "    }\n",
       "\n",
       "    .dataframe thead th {\n",
       "        text-align: right;\n",
       "    }\n",
       "</style>\n",
       "<table border=\"1\" class=\"dataframe\">\n",
       "  <thead>\n",
       "    <tr style=\"text-align: right;\">\n",
       "      <th></th>\n",
       "      <th>gender</th>\n",
       "      <th>race/ethnicity</th>\n",
       "      <th>parental level of education</th>\n",
       "      <th>lunch</th>\n",
       "      <th>test preparation course</th>\n",
       "      <th>math score</th>\n",
       "      <th>reading score</th>\n",
       "      <th>writing score</th>\n",
       "      <th>total</th>\n",
       "      <th>Grade</th>\n",
       "    </tr>\n",
       "  </thead>\n",
       "  <tbody>\n",
       "    <tr>\n",
       "      <th>0</th>\n",
       "      <td>female</td>\n",
       "      <td>group D</td>\n",
       "      <td>some college</td>\n",
       "      <td>standard</td>\n",
       "      <td>completed</td>\n",
       "      <td>59</td>\n",
       "      <td>70</td>\n",
       "      <td>78</td>\n",
       "      <td>0.690000</td>\n",
       "      <td>D</td>\n",
       "    </tr>\n",
       "    <tr>\n",
       "      <th>1</th>\n",
       "      <td>male</td>\n",
       "      <td>group D</td>\n",
       "      <td>associate's degree</td>\n",
       "      <td>standard</td>\n",
       "      <td>none</td>\n",
       "      <td>96</td>\n",
       "      <td>93</td>\n",
       "      <td>87</td>\n",
       "      <td>0.920000</td>\n",
       "      <td>A</td>\n",
       "    </tr>\n",
       "    <tr>\n",
       "      <th>2</th>\n",
       "      <td>female</td>\n",
       "      <td>group D</td>\n",
       "      <td>some college</td>\n",
       "      <td>free/reduced</td>\n",
       "      <td>none</td>\n",
       "      <td>57</td>\n",
       "      <td>76</td>\n",
       "      <td>77</td>\n",
       "      <td>0.700000</td>\n",
       "      <td>C</td>\n",
       "    </tr>\n",
       "    <tr>\n",
       "      <th>3</th>\n",
       "      <td>male</td>\n",
       "      <td>group B</td>\n",
       "      <td>some college</td>\n",
       "      <td>free/reduced</td>\n",
       "      <td>none</td>\n",
       "      <td>70</td>\n",
       "      <td>70</td>\n",
       "      <td>63</td>\n",
       "      <td>0.676667</td>\n",
       "      <td>D</td>\n",
       "    </tr>\n",
       "    <tr>\n",
       "      <th>4</th>\n",
       "      <td>female</td>\n",
       "      <td>group D</td>\n",
       "      <td>associate's degree</td>\n",
       "      <td>standard</td>\n",
       "      <td>none</td>\n",
       "      <td>83</td>\n",
       "      <td>85</td>\n",
       "      <td>86</td>\n",
       "      <td>0.846667</td>\n",
       "      <td>B</td>\n",
       "    </tr>\n",
       "    <tr>\n",
       "      <th>...</th>\n",
       "      <td>...</td>\n",
       "      <td>...</td>\n",
       "      <td>...</td>\n",
       "      <td>...</td>\n",
       "      <td>...</td>\n",
       "      <td>...</td>\n",
       "      <td>...</td>\n",
       "      <td>...</td>\n",
       "      <td>...</td>\n",
       "      <td>...</td>\n",
       "    </tr>\n",
       "    <tr>\n",
       "      <th>995</th>\n",
       "      <td>male</td>\n",
       "      <td>group C</td>\n",
       "      <td>some college</td>\n",
       "      <td>standard</td>\n",
       "      <td>none</td>\n",
       "      <td>77</td>\n",
       "      <td>77</td>\n",
       "      <td>71</td>\n",
       "      <td>0.750000</td>\n",
       "      <td>C</td>\n",
       "    </tr>\n",
       "    <tr>\n",
       "      <th>996</th>\n",
       "      <td>male</td>\n",
       "      <td>group C</td>\n",
       "      <td>some college</td>\n",
       "      <td>standard</td>\n",
       "      <td>none</td>\n",
       "      <td>80</td>\n",
       "      <td>66</td>\n",
       "      <td>66</td>\n",
       "      <td>0.706667</td>\n",
       "      <td>C</td>\n",
       "    </tr>\n",
       "    <tr>\n",
       "      <th>997</th>\n",
       "      <td>female</td>\n",
       "      <td>group A</td>\n",
       "      <td>high school</td>\n",
       "      <td>standard</td>\n",
       "      <td>completed</td>\n",
       "      <td>67</td>\n",
       "      <td>86</td>\n",
       "      <td>86</td>\n",
       "      <td>0.796667</td>\n",
       "      <td>B</td>\n",
       "    </tr>\n",
       "    <tr>\n",
       "      <th>998</th>\n",
       "      <td>male</td>\n",
       "      <td>group E</td>\n",
       "      <td>high school</td>\n",
       "      <td>standard</td>\n",
       "      <td>none</td>\n",
       "      <td>80</td>\n",
       "      <td>72</td>\n",
       "      <td>62</td>\n",
       "      <td>0.713333</td>\n",
       "      <td>C</td>\n",
       "    </tr>\n",
       "    <tr>\n",
       "      <th>999</th>\n",
       "      <td>male</td>\n",
       "      <td>group D</td>\n",
       "      <td>high school</td>\n",
       "      <td>standard</td>\n",
       "      <td>none</td>\n",
       "      <td>58</td>\n",
       "      <td>47</td>\n",
       "      <td>45</td>\n",
       "      <td>0.500000</td>\n",
       "      <td>F</td>\n",
       "    </tr>\n",
       "  </tbody>\n",
       "</table>\n",
       "<p>1000 rows × 10 columns</p>\n",
       "</div>"
      ],
      "text/plain": [
       "     gender race/ethnicity parental level of education         lunch  \\\n",
       "0    female        group D                some college      standard   \n",
       "1      male        group D          associate's degree      standard   \n",
       "2    female        group D                some college  free/reduced   \n",
       "3      male        group B                some college  free/reduced   \n",
       "4    female        group D          associate's degree      standard   \n",
       "..      ...            ...                         ...           ...   \n",
       "995    male        group C                some college      standard   \n",
       "996    male        group C                some college      standard   \n",
       "997  female        group A                 high school      standard   \n",
       "998    male        group E                 high school      standard   \n",
       "999    male        group D                 high school      standard   \n",
       "\n",
       "    test preparation course  math score  reading score  writing score  \\\n",
       "0                 completed          59             70             78   \n",
       "1                      none          96             93             87   \n",
       "2                      none          57             76             77   \n",
       "3                      none          70             70             63   \n",
       "4                      none          83             85             86   \n",
       "..                      ...         ...            ...            ...   \n",
       "995                    none          77             77             71   \n",
       "996                    none          80             66             66   \n",
       "997               completed          67             86             86   \n",
       "998                    none          80             72             62   \n",
       "999                    none          58             47             45   \n",
       "\n",
       "        total Grade  \n",
       "0    0.690000     D  \n",
       "1    0.920000     A  \n",
       "2    0.700000     C  \n",
       "3    0.676667     D  \n",
       "4    0.846667     B  \n",
       "..        ...   ...  \n",
       "995  0.750000     C  \n",
       "996  0.706667     C  \n",
       "997  0.796667     B  \n",
       "998  0.713333     C  \n",
       "999  0.500000     F  \n",
       "\n",
       "[1000 rows x 10 columns]"
      ]
     },
     "execution_count": 96,
     "metadata": {},
     "output_type": "execute_result"
    }
   ],
   "source": [
    "df"
   ]
  },
  {
   "cell_type": "code",
   "execution_count": 120,
   "id": "2b80a8e8",
   "metadata": {},
   "outputs": [],
   "source": [
    "from sklearn.ensemble import RandomForestClassifier\n",
    "rf = RandomForestClassifier()"
   ]
  },
  {
   "cell_type": "code",
   "execution_count": 123,
   "id": "11b19c54",
   "metadata": {},
   "outputs": [],
   "source": [
    "#test_score_names\n",
    "#groups\n",
    "X_train, X_test, y_train, y_test = train_test_split(all_features, df['Grade'], test_size=0.2, random_state=42)"
   ]
  },
  {
   "cell_type": "code",
   "execution_count": 124,
   "id": "4a933e90",
   "metadata": {},
   "outputs": [
    {
     "name": "stdout",
     "output_type": "stream",
     "text": [
      "Best hyperparameters: {'bootstrap': True, 'criterion': 'log_loss', 'max_depth': 5, 'max_features': 'log2', 'min_samples_leaf': 2, 'min_samples_split': 10, 'n_estimators': 100}\n"
     ]
    }
   ],
   "source": [
    "# Define the hyperparameters to search over\n",
    "param_grid = {\n",
    "    'criterion': ['gini', 'entropy', 'log_loss'],\n",
    "    'n_estimators': [100, 200, 300],\n",
    "    'max_features': ['sqrt', 'log2', None],\n",
    "    'max_depth': [None, 5, 10],\n",
    "    'min_samples_split': [2, 5, 10],\n",
    "    'min_samples_leaf': [1, 2, 4],\n",
    "    'bootstrap': [True, False]\n",
    "}\n",
    "\n",
    "# Create a random forest regressor\n",
    "\n",
    "# Perform a grid search over the hyperparameters\n",
    "grid_search = GridSearchCV(estimator=rf, param_grid=param_grid, cv=5)\n",
    "grid_search.fit(X_train, y_train)\n",
    "\n",
    "# Print the best hyperparameters\n",
    "print('Best hyperparameters:', grid_search.best_params_)\n",
    "\n",
    "forrest_params = grid_search.best_params_"
   ]
  },
  {
   "cell_type": "code",
   "execution_count": 125,
   "id": "08da61ab",
   "metadata": {},
   "outputs": [],
   "source": [
    "rf = RandomForestClassifier(**forrest_params)"
   ]
  },
  {
   "cell_type": "code",
   "execution_count": 127,
   "id": "9a9f6aee",
   "metadata": {},
   "outputs": [
    {
     "data": {
      "text/html": [
       "<style>#sk-container-id-6 {color: black;background-color: white;}#sk-container-id-6 pre{padding: 0;}#sk-container-id-6 div.sk-toggleable {background-color: white;}#sk-container-id-6 label.sk-toggleable__label {cursor: pointer;display: block;width: 100%;margin-bottom: 0;padding: 0.3em;box-sizing: border-box;text-align: center;}#sk-container-id-6 label.sk-toggleable__label-arrow:before {content: \"▸\";float: left;margin-right: 0.25em;color: #696969;}#sk-container-id-6 label.sk-toggleable__label-arrow:hover:before {color: black;}#sk-container-id-6 div.sk-estimator:hover label.sk-toggleable__label-arrow:before {color: black;}#sk-container-id-6 div.sk-toggleable__content {max-height: 0;max-width: 0;overflow: hidden;text-align: left;background-color: #f0f8ff;}#sk-container-id-6 div.sk-toggleable__content pre {margin: 0.2em;color: black;border-radius: 0.25em;background-color: #f0f8ff;}#sk-container-id-6 input.sk-toggleable__control:checked~div.sk-toggleable__content {max-height: 200px;max-width: 100%;overflow: auto;}#sk-container-id-6 input.sk-toggleable__control:checked~label.sk-toggleable__label-arrow:before {content: \"▾\";}#sk-container-id-6 div.sk-estimator input.sk-toggleable__control:checked~label.sk-toggleable__label {background-color: #d4ebff;}#sk-container-id-6 div.sk-label input.sk-toggleable__control:checked~label.sk-toggleable__label {background-color: #d4ebff;}#sk-container-id-6 input.sk-hidden--visually {border: 0;clip: rect(1px 1px 1px 1px);clip: rect(1px, 1px, 1px, 1px);height: 1px;margin: -1px;overflow: hidden;padding: 0;position: absolute;width: 1px;}#sk-container-id-6 div.sk-estimator {font-family: monospace;background-color: #f0f8ff;border: 1px dotted black;border-radius: 0.25em;box-sizing: border-box;margin-bottom: 0.5em;}#sk-container-id-6 div.sk-estimator:hover {background-color: #d4ebff;}#sk-container-id-6 div.sk-parallel-item::after {content: \"\";width: 100%;border-bottom: 1px solid gray;flex-grow: 1;}#sk-container-id-6 div.sk-label:hover label.sk-toggleable__label {background-color: #d4ebff;}#sk-container-id-6 div.sk-serial::before {content: \"\";position: absolute;border-left: 1px solid gray;box-sizing: border-box;top: 0;bottom: 0;left: 50%;z-index: 0;}#sk-container-id-6 div.sk-serial {display: flex;flex-direction: column;align-items: center;background-color: white;padding-right: 0.2em;padding-left: 0.2em;position: relative;}#sk-container-id-6 div.sk-item {position: relative;z-index: 1;}#sk-container-id-6 div.sk-parallel {display: flex;align-items: stretch;justify-content: center;background-color: white;position: relative;}#sk-container-id-6 div.sk-item::before, #sk-container-id-6 div.sk-parallel-item::before {content: \"\";position: absolute;border-left: 1px solid gray;box-sizing: border-box;top: 0;bottom: 0;left: 50%;z-index: -1;}#sk-container-id-6 div.sk-parallel-item {display: flex;flex-direction: column;z-index: 1;position: relative;background-color: white;}#sk-container-id-6 div.sk-parallel-item:first-child::after {align-self: flex-end;width: 50%;}#sk-container-id-6 div.sk-parallel-item:last-child::after {align-self: flex-start;width: 50%;}#sk-container-id-6 div.sk-parallel-item:only-child::after {width: 0;}#sk-container-id-6 div.sk-dashed-wrapped {border: 1px dashed gray;margin: 0 0.4em 0.5em 0.4em;box-sizing: border-box;padding-bottom: 0.4em;background-color: white;}#sk-container-id-6 div.sk-label label {font-family: monospace;font-weight: bold;display: inline-block;line-height: 1.2em;}#sk-container-id-6 div.sk-label-container {text-align: center;}#sk-container-id-6 div.sk-container {/* jupyter's `normalize.less` sets `[hidden] { display: none; }` but bootstrap.min.css set `[hidden] { display: none !important; }` so we also need the `!important` here to be able to override the default hidden behavior on the sphinx rendered scikit-learn.org. See: https://github.com/scikit-learn/scikit-learn/issues/21755 */display: inline-block !important;position: relative;}#sk-container-id-6 div.sk-text-repr-fallback {display: none;}</style><div id=\"sk-container-id-6\" class=\"sk-top-container\"><div class=\"sk-text-repr-fallback\"><pre>RandomForestClassifier(criterion=&#x27;log_loss&#x27;, max_depth=5, max_features=&#x27;log2&#x27;,\n",
       "                       min_samples_leaf=2, min_samples_split=10)</pre><b>In a Jupyter environment, please rerun this cell to show the HTML representation or trust the notebook. <br />On GitHub, the HTML representation is unable to render, please try loading this page with nbviewer.org.</b></div><div class=\"sk-container\" hidden><div class=\"sk-item\"><div class=\"sk-estimator sk-toggleable\"><input class=\"sk-toggleable__control sk-hidden--visually\" id=\"sk-estimator-id-6\" type=\"checkbox\" checked><label for=\"sk-estimator-id-6\" class=\"sk-toggleable__label sk-toggleable__label-arrow\">RandomForestClassifier</label><div class=\"sk-toggleable__content\"><pre>RandomForestClassifier(criterion=&#x27;log_loss&#x27;, max_depth=5, max_features=&#x27;log2&#x27;,\n",
       "                       min_samples_leaf=2, min_samples_split=10)</pre></div></div></div></div></div>"
      ],
      "text/plain": [
       "RandomForestClassifier(criterion='log_loss', max_depth=5, max_features='log2',\n",
       "                       min_samples_leaf=2, min_samples_split=10)"
      ]
     },
     "execution_count": 127,
     "metadata": {},
     "output_type": "execute_result"
    }
   ],
   "source": [
    "rf.fit(X_train,y_train)"
   ]
  },
  {
   "cell_type": "code",
   "execution_count": 135,
   "id": "2ed53216",
   "metadata": {},
   "outputs": [],
   "source": [
    "y_pred = rf.predict(X_test)"
   ]
  },
  {
   "cell_type": "code",
   "execution_count": 136,
   "id": "e38db10b",
   "metadata": {},
   "outputs": [],
   "source": [
    "from sklearn.metrics import accuracy_score, precision_score, recall_score, f1_score, confusion_matrix\n",
    "accuracy = accuracy_score(y_test, y_pred)\n",
    "precision = precision_score(y_test, y_pred, average='weighted')\n",
    "recall = recall_score(y_test, y_pred, average='weighted')\n",
    "f1 = f1_score(y_test, y_pred, average='weighted')\n",
    "conf_matrix = confusion_matrix(y_test, y_pred)"
   ]
  },
  {
   "cell_type": "code",
   "execution_count": 139,
   "id": "8159fb1a",
   "metadata": {},
   "outputs": [
    {
     "data": {
      "text/plain": [
       "array(['C', 'C', 'C', 'F', 'B', 'F', 'C', 'F', 'B', 'B', 'D', 'F', 'D',\n",
       "       'C', 'F', 'C', 'F', 'C', 'D', 'F', 'B', 'F', 'C', 'A', 'D', 'C',\n",
       "       'C', 'D', 'C', 'C', 'F', 'D', 'C', 'C', 'D', 'D', 'B', 'D', 'D',\n",
       "       'F', 'C', 'A', 'A', 'C', 'C', 'B', 'F', 'C', 'D', 'D', 'B', 'C',\n",
       "       'F', 'C', 'C', 'C', 'C', 'F', 'C', 'D', 'F', 'D', 'C', 'D', 'D',\n",
       "       'C', 'D', 'A', 'D', 'C', 'D', 'F', 'F', 'F', 'C', 'C', 'D', 'B',\n",
       "       'A', 'D', 'F', 'F', 'D', 'F', 'C', 'B', 'B', 'F', 'F', 'F', 'C',\n",
       "       'F', 'D', 'D', 'C', 'C', 'D', 'F', 'C', 'F', 'C', 'D', 'D', 'F',\n",
       "       'F', 'F', 'F', 'C', 'C', 'C', 'C', 'C', 'F', 'F', 'A', 'C', 'F',\n",
       "       'D', 'D', 'D', 'B', 'F', 'C', 'F', 'F', 'C', 'F', 'F', 'F', 'F',\n",
       "       'C', 'B', 'F', 'C', 'B', 'C', 'C', 'C', 'F', 'C', 'D', 'D', 'C',\n",
       "       'F', 'B', 'D', 'C', 'D', 'D', 'D', 'B', 'C', 'F', 'C', 'B', 'D',\n",
       "       'C', 'B', 'C', 'F', 'C', 'F', 'D', 'C', 'C', 'B', 'D', 'C', 'F',\n",
       "       'C', 'D', 'C', 'F', 'A', 'C', 'B', 'D', 'C', 'F', 'C', 'C', 'B',\n",
       "       'C', 'F', 'D', 'B', 'D', 'C', 'D', 'D', 'F', 'F', 'C', 'A', 'F',\n",
       "       'C', 'D', 'F', 'C', 'C'], dtype=object)"
      ]
     },
     "execution_count": 139,
     "metadata": {},
     "output_type": "execute_result"
    }
   ],
   "source": [
    "y_pred"
   ]
  },
  {
   "cell_type": "code",
   "execution_count": null,
   "id": "9a141ed8",
   "metadata": {},
   "outputs": [],
   "source": []
  }
 ],
 "metadata": {
  "kernelspec": {
   "display_name": "Python 3 (ipykernel)",
   "language": "python",
   "name": "python3"
  },
  "language_info": {
   "codemirror_mode": {
    "name": "ipython",
    "version": 3
   },
   "file_extension": ".py",
   "mimetype": "text/x-python",
   "name": "python",
   "nbconvert_exporter": "python",
   "pygments_lexer": "ipython3",
   "version": "3.9.7"
  }
 },
 "nbformat": 4,
 "nbformat_minor": 5
}
